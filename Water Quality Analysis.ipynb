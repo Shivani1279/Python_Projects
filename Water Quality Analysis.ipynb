{
 "cells": [
  {
   "cell_type": "markdown",
   "id": "76a8e6a8",
   "metadata": {},
   "source": [
    "Importing the necessary Python libraries and the dataset:"
   ]
  },
  {
   "cell_type": "code",
   "execution_count": 1,
   "id": "f9eaf872",
   "metadata": {},
   "outputs": [
    {
     "data": {
      "text/html": [
       "<div>\n",
       "<style scoped>\n",
       "    .dataframe tbody tr th:only-of-type {\n",
       "        vertical-align: middle;\n",
       "    }\n",
       "\n",
       "    .dataframe tbody tr th {\n",
       "        vertical-align: top;\n",
       "    }\n",
       "\n",
       "    .dataframe thead th {\n",
       "        text-align: right;\n",
       "    }\n",
       "</style>\n",
       "<table border=\"1\" class=\"dataframe\">\n",
       "  <thead>\n",
       "    <tr style=\"text-align: right;\">\n",
       "      <th></th>\n",
       "      <th>ph</th>\n",
       "      <th>Hardness</th>\n",
       "      <th>Solids</th>\n",
       "      <th>Chloramines</th>\n",
       "      <th>Sulfate</th>\n",
       "      <th>Conductivity</th>\n",
       "      <th>Organic_carbon</th>\n",
       "      <th>Trihalomethanes</th>\n",
       "      <th>Turbidity</th>\n",
       "      <th>Potability</th>\n",
       "    </tr>\n",
       "  </thead>\n",
       "  <tbody>\n",
       "    <tr>\n",
       "      <th>0</th>\n",
       "      <td>NaN</td>\n",
       "      <td>204.890455</td>\n",
       "      <td>20791.318981</td>\n",
       "      <td>7.300212</td>\n",
       "      <td>368.516441</td>\n",
       "      <td>564.308654</td>\n",
       "      <td>10.379783</td>\n",
       "      <td>86.990970</td>\n",
       "      <td>2.963135</td>\n",
       "      <td>0</td>\n",
       "    </tr>\n",
       "    <tr>\n",
       "      <th>1</th>\n",
       "      <td>3.716080</td>\n",
       "      <td>129.422921</td>\n",
       "      <td>18630.057858</td>\n",
       "      <td>6.635246</td>\n",
       "      <td>NaN</td>\n",
       "      <td>592.885359</td>\n",
       "      <td>15.180013</td>\n",
       "      <td>56.329076</td>\n",
       "      <td>4.500656</td>\n",
       "      <td>0</td>\n",
       "    </tr>\n",
       "    <tr>\n",
       "      <th>2</th>\n",
       "      <td>8.099124</td>\n",
       "      <td>224.236259</td>\n",
       "      <td>19909.541732</td>\n",
       "      <td>9.275884</td>\n",
       "      <td>NaN</td>\n",
       "      <td>418.606213</td>\n",
       "      <td>16.868637</td>\n",
       "      <td>66.420093</td>\n",
       "      <td>3.055934</td>\n",
       "      <td>0</td>\n",
       "    </tr>\n",
       "    <tr>\n",
       "      <th>3</th>\n",
       "      <td>8.316766</td>\n",
       "      <td>214.373394</td>\n",
       "      <td>22018.417441</td>\n",
       "      <td>8.059332</td>\n",
       "      <td>356.886136</td>\n",
       "      <td>363.266516</td>\n",
       "      <td>18.436524</td>\n",
       "      <td>100.341674</td>\n",
       "      <td>4.628771</td>\n",
       "      <td>0</td>\n",
       "    </tr>\n",
       "    <tr>\n",
       "      <th>4</th>\n",
       "      <td>9.092223</td>\n",
       "      <td>181.101509</td>\n",
       "      <td>17978.986339</td>\n",
       "      <td>6.546600</td>\n",
       "      <td>310.135738</td>\n",
       "      <td>398.410813</td>\n",
       "      <td>11.558279</td>\n",
       "      <td>31.997993</td>\n",
       "      <td>4.075075</td>\n",
       "      <td>0</td>\n",
       "    </tr>\n",
       "  </tbody>\n",
       "</table>\n",
       "</div>"
      ],
      "text/plain": [
       "         ph    Hardness        Solids  Chloramines     Sulfate  Conductivity  \\\n",
       "0       NaN  204.890455  20791.318981     7.300212  368.516441    564.308654   \n",
       "1  3.716080  129.422921  18630.057858     6.635246         NaN    592.885359   \n",
       "2  8.099124  224.236259  19909.541732     9.275884         NaN    418.606213   \n",
       "3  8.316766  214.373394  22018.417441     8.059332  356.886136    363.266516   \n",
       "4  9.092223  181.101509  17978.986339     6.546600  310.135738    398.410813   \n",
       "\n",
       "   Organic_carbon  Trihalomethanes  Turbidity  Potability  \n",
       "0       10.379783        86.990970   2.963135           0  \n",
       "1       15.180013        56.329076   4.500656           0  \n",
       "2       16.868637        66.420093   3.055934           0  \n",
       "3       18.436524       100.341674   4.628771           0  \n",
       "4       11.558279        31.997993   4.075075           0  "
      ]
     },
     "execution_count": 1,
     "metadata": {},
     "output_type": "execute_result"
    }
   ],
   "source": [
    "import matplotlib.pyplot as plt\n",
    "import pandas as pd\n",
    "import seaborn as sns\n",
    "import numpy as np\n",
    "\n",
    "data = pd.read_csv(r\"C:\\Users\\dell\\Documents\\EDA Dataset\\water_potability.csv\")\n",
    "data.head()"
   ]
  },
  {
   "cell_type": "markdown",
   "id": "491d414a",
   "metadata": {},
   "source": [
    "Removing all the rows that contain null values:"
   ]
  },
  {
   "cell_type": "code",
   "execution_count": 2,
   "id": "9a494fe0",
   "metadata": {},
   "outputs": [
    {
     "data": {
      "text/plain": [
       "ph                 0\n",
       "Hardness           0\n",
       "Solids             0\n",
       "Chloramines        0\n",
       "Sulfate            0\n",
       "Conductivity       0\n",
       "Organic_carbon     0\n",
       "Trihalomethanes    0\n",
       "Turbidity          0\n",
       "Potability         0\n",
       "dtype: int64"
      ]
     },
     "execution_count": 2,
     "metadata": {},
     "output_type": "execute_result"
    }
   ],
   "source": [
    "data = data.dropna()\n",
    "data.isnull().sum()"
   ]
  },
  {
   "cell_type": "markdown",
   "id": "9a404fbb",
   "metadata": {},
   "source": [
    "The Potability column of this dataset is the column I need to predict because it contains values 0 and 1 that indicate whether the water is potable (1) or unfit (0) for consumption. Evaluating the distribution of 0 and 1 in the Potability column:"
   ]
  },
  {
   "cell_type": "code",
   "execution_count": 3,
   "id": "121baf89",
   "metadata": {},
   "outputs": [
    {
     "name": "stderr",
     "output_type": "stream",
     "text": [
      "D:\\Anaconda\\lib\\site-packages\\seaborn\\_decorators.py:36: FutureWarning: Pass the following variable as a keyword arg: x. From version 0.12, the only valid positional argument will be `data`, and passing other arguments without an explicit keyword will result in an error or misinterpretation.\n",
      "  warnings.warn(\n"
     ]
    },
    {
     "data": {
      "image/png": "[encoded data removed]",
      "text/plain": [
       "<Figure size 1080x720 with 1 Axes>"
      ]
     },
     "metadata": {
      "needs_background": "light"
     },
     "output_type": "display_data"
    }
   ],
   "source": [
    "plt.figure(figsize=(15, 10))\n",
    "sns.countplot(data.Potability)\n",
    "plt.title(\"Distribution of Unsafe and Safe Water\")\n",
    "plt.show()"
   ]
  },
  {
   "cell_type": "markdown",
   "id": "6c1de695",
   "metadata": {},
   "source": [
    "Dataset is not balanced because samples of 0s are more than 1s.\n",
    "\n",
    "As mentioned above, there are no factors that I cannot ignore that affect water quality, so checking all the columns one by one. Evaluating the ph column:"
   ]
  },
  {
   "cell_type": "code",
   "execution_count": 6,
   "id": "5c424a70",
   "metadata": {},
   "outputs": [
    {
     "data": {
      "image/png": "[encoded data removed]",
      "text/plain": [
       "<Figure size 720x432 with 1 Axes>"
      ]
     },
     "metadata": {
      "needs_background": "light"
     },
     "output_type": "display_data"
    }
   ],
   "source": [
    "#import plotly.express as px\n",
    "#data = data\n",
    "#figure = px.histogram(data, x = \"ph\", color = \"Potability\", title= \"Factors Affecting Water Quality: PH\")\n",
    "#figure.show()\n",
    "\n",
    "plt.figure(figsize=(10, 6))\n",
    "plt.hist(data[data['Potability'] == 0]['ph'], bins=20, alpha=0.5, label='Not Potable', color='red')\n",
    "plt.hist(data[data['Potability'] == 1]['ph'], bins=20, alpha=0.5, label='Potable', color='blue')\n",
    "plt.xlabel('pH')\n",
    "plt.ylabel('Count')\n",
    "plt.title('Distribution of pH for Potable and Non-Potable Water')\n",
    "plt.legend()\n",
    "plt.show()"
   ]
  },
  {
   "cell_type": "markdown",
   "id": "6e7c011e",
   "metadata": {},
   "source": [
    "The ph column represents the ph value of the water which is an important factor in evaluating the acid-base balance of the water. The pH value of drinking water should be between 6.5 and 8.5. \n",
    "Now evaluating the second factor affecting water quality in the dataset:"
   ]
  },
  {
   "cell_type": "code",
   "execution_count": 8,
   "id": "1a4dda25",
   "metadata": {},
   "outputs": [
    {
     "data": {
      "image/png": "[encoded data removed]",
      "text/plain": [
       "<Figure size 720x432 with 1 Axes>"
      ]
     },
     "metadata": {
      "needs_background": "light"
     },
     "output_type": "display_data"
    }
   ],
   "source": [
    "#figure = px.histogram(data, x = \"Hardness\", color = \"Potability\", title= \"Factors Affecting Water Quality: Hardness\")\n",
    "#figure.show()\n",
    "\n",
    "plt.figure(figsize=(10, 6))\n",
    "plt.hist(data[data['Potability'] == 0]['Hardness'], bins=20, alpha=0.5, label='Not Potable', color='red')\n",
    "plt.hist(data[data['Potability'] == 1]['Hardness'], bins=20, alpha=0.5, label='Potable', color='blue')\n",
    "plt.xlabel('Hardness')\n",
    "plt.ylabel('Count')\n",
    "plt.title('Distribution of Hardness for Potable and Non-Potable Water')\n",
    "plt.legend()\n",
    "plt.show()"
   ]
  },
  {
   "cell_type": "markdown",
   "id": "2ba77023",
   "metadata": {},
   "source": [
    "The figure above shows the distribution of water hardness in the dataset. The hardness of water usually depends on its source, but water with a hardness of 120-200 milligrams is drinkable. \n",
    "Evaluating the next factor affecting water quality:"
   ]
  },
  {
   "cell_type": "code",
   "execution_count": 10,
   "id": "6805a7d6",
   "metadata": {},
   "outputs": [
    {
     "data": {
      "image/png": "[encoded data removed]",
      "text/plain": [
       "<Figure size 720x432 with 1 Axes>"
      ]
     },
     "metadata": {
      "needs_background": "light"
     },
     "output_type": "display_data"
    }
   ],
   "source": [
    "#figure = px.histogram(data, x = \"Solids\", color = \"Potability\", title= \"Factors Affecting Water Quality: Solids\")\n",
    "#figure.show()\n",
    "\n",
    "plt.figure(figsize=(10, 6))\n",
    "plt.hist(data[data['Potability'] == 0]['Solids'], bins=20, alpha=0.5, label='Not Potable', color='red')\n",
    "plt.hist(data[data['Potability'] == 1]['Solids'], bins=20, alpha=0.5, label='Potable', color='blue')\n",
    "plt.xlabel('Solids')\n",
    "plt.ylabel('Count')\n",
    "plt.title('Distribution of Solids for Potable and Non-Potable Water')\n",
    "plt.legend()\n",
    "plt.show()\n"
   ]
  },
  {
   "cell_type": "markdown",
   "id": "b70d4a84",
   "metadata": {},
   "source": [
    "The figure above represents the distribution of total dissolved solids in water in the dataset. All organic and inorganic minerals present in water are called dissolved solids. Water with a very high number of dissolved solids is highly mineralized. Now checking the next factor affecting water quality:"
   ]
  },
  {
   "cell_type": "code",
   "execution_count": 11,
   "id": "79fd1f02",
   "metadata": {},
   "outputs": [
    {
     "data": {
      "application/vnd.plotly.v1+json": {
       "config": {
        "plotlyServerURL": "https://plot.ly"
       },
       "data": [
        {
         "alignmentgroup": "True",
         "bingroup": "x",
         "hovertemplate": "Potability=0<br>Chloramines=%{x}<br>count=%{y}<extra></extra>",
         "legendgroup": "0",
         "marker": {
          "color": "#636efa",
          "pattern": {
           "shape": ""
          }
         },
         "name": "0",
         "offsetgroup": "0",
         "orientation": "v",
         "showlegend": true,
         "type": "histogram",
         "x": [
          8.05933237743854,
          6.546599974207941,
          7.54486878877965,
          7.5134084658313025,
          4.563008685599703,
          9.077200016914391,
          7.550700906704114,
          3.60603609050572,
          9.629596276480584,
          6.904989726470096,
          4.432669290372123,
          5.858769130547582,
          10.056852484033495,
          8.67093691991312,
          8.782147480773485,
          5.994678646449973,
          8.161504810728331,
          6.845952023844903,
          6.060712994989327,
          5.538314133481364,
          6.110612421393192,
          7.993829562375316,
          6.81402870120907,
          6.882248306781502,
          4.462707246137983,
          5.570783575394459,
          4.915101054543186,
          5.212314602065352,
          4.961066380191502,
          7.2307947693374,
          6.991259996238134,
          8.282808464509609,
          7.230164126862036,
          6.9948396173050975,
          5.375559891974689,
          8.983276144386597,
          5.837086492837437,
          3.8030364235979857,
          7.050503159576975,
          7.092462955305368,
          6.821679099461131,
          6.6845702741913415,
          5.756930038692856,
          9.86504750268218,
          6.505923138805981,
          7.648599331443458,
          5.1277468613272,
          7.884990657868601,
          6.799841410225563,
          6.655126362567496,
          6.325442403664851,
          6.588374366182638,
          5.495737654707861,
          7.587196417947506,
          6.181839616382845,
          8.18741579072919,
          6.202469332114029,
          7.726040434165082,
          7.391510138420656,
          7.483708837987377,
          8.27079293672615,
          7.954015627092478,
          6.4430978778694525,
          3.998265840980654,
          7.303126583151656,
          8.38676100823379,
          8.569781529733312,
          9.008495193731893,
          5.392651282023056,
          7.091521514260433,
          7.822528490547928,
          8.912266340684624,
          9.616330436939966,
          6.201982767323312,
          3.749625148300965,
          7.121477448104934,
          4.916302562031351,
          9.63563608296433,
          8.130472208247298,
          7.130436799595529,
          7.484103646670236,
          9.00600774687328,
          5.820655207859319,
          7.262416638654269,
          6.137757462086741,
          7.923315374812149,
          6.250578031106523,
          5.819022939611381,
          8.349709766709022,
          6.925706079789448,
          9.900546897053909,
          6.531261269813094,
          4.506293474405815,
          8.977286380775292,
          7.302351651289456,
          6.313181872058335,
          8.54973827385147,
          8.21493885317026,
          7.62791913004187,
          8.105802881560642,
          6.967094561617943,
          5.828357794463706,
          6.440999765643898,
          4.8452054756401095,
          8.96137237710277,
          7.751285440069857,
          5.529942235981782,
          8.830102319230392,
          9.220128211470378,
          7.685775096243834,
          8.879822933865775,
          7.121263608584251,
          5.701659125426225,
          5.809031561747345,
          6.501596204518965,
          7.658746878098305,
          7.567676884281859,
          5.317019274608898,
          4.405034532267237,
          7.683742220804051,
          3.351597819645086,
          5.366011335667973,
          5.293918606634048,
          6.600853063787393,
          7.205262042399628,
          6.958283209737815,
          7.428313128360553,
          8.951692284573435,
          6.5977643395030885,
          6.28604310963364,
          3.615890517202109,
          7.841541552765099,
          5.318731980337871,
          7.22297155669755,
          7.675826174302703,
          6.110019418331791,
          7.244753274494474,
          10.219804099110648,
          6.394463065325563,
          4.210284080582492,
          5.396716118190096,
          4.948814508726159,
          6.500825401623311,
          6.049600899198109,
          5.682035301583484,
          8.12108014749549,
          6.500052537164006,
          5.922450614186979,
          4.271544671064371,
          7.214895724180281,
          6.156110794077742,
          5.987876583564684,
          8.11473101538499,
          8.757133178602194,
          5.55166044710827,
          6.202721182268095,
          8.435470110486323,
          10.41658888057755,
          4.528076190732979,
          8.008618310012316,
          9.922077892734912,
          8.832137591649273,
          6.485594270819234,
          7.018164992223185,
          9.86823789169532,
          7.030699301374778,
          7.488703142936128,
          6.24024762050264,
          6.5480978205934415,
          3.692065358403253,
          5.620298799083457,
          5.9278681269137286,
          4.960558357925921,
          5.68171619688383,
          12.062536203606816,
          6.697657120584026,
          2.9813789663386965,
          9.752878651924869,
          6.509065394637483,
          7.663987986322337,
          6.962789991381202,
          7.295211586223173,
          3.9143531837208743,
          7.837861188542399,
          6.422359010887423,
          7.607610852809875,
          2.9937440607391426,
          8.261778152453603,
          6.737176049704408,
          9.202633941435824,
          8.4516010448867,
          8.263503442433247,
          9.412034556261546,
          3.723776180465787,
          6.30445910663101,
          7.208945954961548,
          7.442998712138735,
          8.117114132677262,
          3.445514571005745,
          6.23423148205243,
          6.947895137367302,
          8.385216673487097,
          4.942929900651313,
          7.692154202402315,
          8.226228135087709,
          9.186893055149625,
          9.49458169766203,
          7.842974787706206,
          8.630380615158643,
          6.269309000717355,
          5.314759315288798,
          5.980401833086066,
          7.108628055021516,
          7.599751702318177,
          3.6885044472211,
          7.294554070379053,
          9.064612799735334,
          6.878347938601747,
          9.72710331796349,
          8.124231912485545,
          7.03931085119713,
          8.456177900240938,
          7.628746941681399,
          9.34598146539764,
          5.895464025261905,
          7.0701852477538,
          10.711475410433692,
          5.239013199777052,
          6.341797302117964,
          7.40001948091398,
          7.924762106897907,
          4.338353353084402,
          6.662948925443871,
          6.856967134399797,
          4.930380712258765,
          7.327729345294117,
          9.900159427394206,
          8.869267959996662,
          9.092721172985096,
          11.5431904716461,
          7.641833653493535,
          6.577127953867105,
          7.84026050655083,
          9.242652786863514,
          5.310815229913601,
          5.667433467359569,
          5.948784613313245,
          7.27943319506844,
          7.277442761541138,
          5.780822620770183,
          5.976549511454515,
          5.922704259769252,
          7.079933969807632,
          6.516518927861855,
          10.707015582959428,
          4.639115857837833,
          8.243781226930494,
          8.110140336918443,
          8.848262223584083,
          7.697323746237285,
          5.527620653059023,
          8.075626885846768,
          4.142485398906173,
          7.132239772698276,
          7.668315445257313,
          6.222626355657602,
          6.500953108308197,
          5.507649677768669,
          4.970958566316776,
          9.009055719782308,
          6.106566875517484,
          9.070126286573686,
          10.096587966022383,
          7.258721932993848,
          6.132545673577182,
          8.377233431257475,
          7.536023170642026,
          7.26876508884632,
          7.736569500362128,
          7.489006437759974,
          4.945416598638363,
          8.420763302362689,
          7.60413034942968,
          6.717666040541136,
          8.550483092447966,
          5.204084472211437,
          7.027226155631311,
          4.536412951344509,
          7.290877675600362,
          7.286392323989023,
          7.744695762882315,
          9.759897651507403,
          9.47284496887071,
          7.410890857875185,
          7.287925242270102,
          10.18460459991426,
          5.325852714508289,
          7.872037771336379,
          5.112750509869737,
          6.608205099166998,
          8.444687184831874,
          7.513870224431929,
          5.543901316277938,
          9.644996547731552,
          6.294517392979037,
          6.761683214465978,
          4.935997766107353,
          5.163931372998991,
          8.38894421399903,
          8.620697294848203,
          9.876574050392144,
          7.667128478800443,
          4.6102446924534215,
          7.309821638629845,
          9.138390839362147,
          8.561123755060423,
          8.571649638299693,
          8.591510126308991,
          8.630313014071895,
          9.820230918736057,
          7.303183678175727,
          7.508305289508399,
          6.543089824078055,
          9.04114608484344,
          3.9209736624247262,
          8.262903987469691,
          9.00872609354944,
          7.390474095948067,
          8.769621767000698,
          7.991366182885692,
          5.018671102233063,
          5.557863755660677,
          5.017698088295537,
          9.363249825363392,
          6.521422284947895,
          7.101223816321487,
          8.486030243192529,
          7.487278120016829,
          6.741909445204502,
          7.029491110970193,
          6.280195162130877,
          6.392545063613865,
          8.439680712314411,
          7.135496643869766,
          7.982096708062272,
          6.296103203499958,
          6.144844982231076,
          9.370848444420924,
          8.840473500525777,
          5.838594348296554,
          8.072933637567953,
          9.751560796636284,
          8.600477186834942,
          5.567500642050892,
          6.764349993180452,
          7.3578572545432035,
          6.045906439607806,
          9.232766061940334,
          5.548407103735634,
          5.903058231468139,
          8.31134872749755,
          5.308989560204696,
          6.298365795305266,
          8.090493963325427,
          5.392692829400886,
          6.041143671607493,
          9.144953298114434,
          6.900379647327515,
          6.057867647319615,
          8.365470022720896,
          6.055622508469588,
          4.493900097817161,
          6.154072581466943,
          7.9190831602624785,
          5.845501641338506,
          6.066386357101846,
          10.141060053348731,
          7.137871354061047,
          9.77500406626542,
          6.050225266127892,
          3.2711440240210687,
          9.733356110206712,
          6.614180462593355,
          4.39313814981189,
          6.259352880963183,
          9.157615312499004,
          6.236836216752792,
          5.962836939385372,
          6.591108949152465,
          7.668897441408557,
          6.812142878738287,
          6.862988074575324,
          8.386403518156909,
          8.204071005976033,
          6.6342101132597895,
          5.584369157426571,
          5.816703197883763,
          6.736118026809487,
          9.768406488617064,
          4.97450612352311,
          9.915647165119752,
          8.193416004409773,
          6.372975147661259,
          6.192662700732348,
          6.028559416620544,
          5.180105640804004,
          7.548543437259352,
          6.785685189577225,
          6.648272780493369,
          9.16523914539234,
          7.843225649588569,
          5.523010780807942,
          7.623603583169212,
          6.861235191713022,
          7.894244798435495,
          5.96127222367226,
          5.501070114239315,
          6.3584022962415565,
          7.903081469320279,
          7.7200109589287775,
          5.818229015846422,
          6.521814669653311,
          6.188502911703347,
          7.784940449239423,
          4.977306609069512,
          7.816284866414023,
          5.211430347967574,
          9.47580112878229,
          6.936782341455183,
          9.29585200073896,
          7.017330330753139,
          7.5166432155506255,
          9.808651156000304,
          5.817090294681839,
          4.87541388108418,
          6.5778340481222415,
          5.350923532087751,
          7.3758831019097135,
          9.605650817390336,
          7.703374743177986,
          6.344585274835143,
          4.8998748098928,
          8.098838844819452,
          3.694274998949452,
          8.54083737580695,
          5.21668448428477,
          8.053558881344857,
          9.170939959898565,
          6.035086878051128,
          7.243682989120733,
          7.837397649883607,
          8.44840522471032,
          5.459171832896898,
          7.651668437911807,
          7.609833075619996,
          8.560537109298675,
          6.1887903080650615,
          4.038955038706492,
          11.086526251113613,
          7.881197241955268,
          7.3827548827212,
          7.325000809399832,
          7.223961867464942,
          6.984101860179184,
          4.286930404603043,
          9.79632989498925,
          8.530101581463274,
          7.769214768699737,
          6.05307194454977,
          6.18592511972857,
          5.783357385747603,
          6.520854677100747,
          8.565831605436097,
          7.422781036509128,
          9.219973244815074,
          8.290688224907012,
          5.276730857728753,
          6.850200389133175,
          6.183950032168574,
          7.420154854034217,
          9.369641788553407,
          7.087909963050183,
          8.17186545006647,
          6.80095766880417,
          6.729775468681519,
          6.556668444833776,
          5.666870422440619,
          6.707523245610187,
          4.865462911988274,
          6.1936239397781865,
          8.36413102029555,
          6.647425228431361,
          7.312751932833271,
          5.837807201144256,
          7.075130627265931,
          7.276064918343411,
          6.6739774050955365,
          6.693213781270785,
          5.993126371123805,
          6.807580134398719,
          5.94607364340275,
          6.184709662457266,
          6.874702423784096,
          6.259376143987399,
          5.360895563439263,
          5.91488443806432,
          7.354034994202686,
          5.973097827324135,
          8.465160384182976,
          6.895145947235456,
          7.504452893461385,
          7.363593123786581,
          5.967722339918852,
          6.546463536394048,
          7.46706801791988,
          6.7463438053848845,
          7.744699887440408,
          8.977179702653883,
          8.051172565689857,
          6.911867556478251,
          7.040727474579704,
          7.436807555796994,
          7.631406985299353,
          5.907272718398605,
          5.753405051896213,
          6.651801292027482,
          6.826412755635183,
          6.902369830255252,
          5.949621952624554,
          7.877666104360982,
          6.380683612713321,
          5.153872814055152,
          7.98045081211562,
          5.588614466203468,
          6.83596822664864,
          8.463003513917272,
          8.793458647829397,
          8.94038013799541,
          6.195449079471762,
          7.498494553889046,
          7.416772689381264,
          6.354508121755911,
          5.628775692029175,
          5.117364166076436,
          7.493278654702728,
          5.843756805412838,
          5.5029034695238055,
          5.152225670059677,
          5.618949090806702,
          7.299301919913234,
          6.5476499906031735,
          6.414851565282406,
          6.410043149676146,
          6.63645414145047,
          7.879750031872745,
          6.726664085659697,
          6.416458708054712,
          6.308198373401749,
          7.285997694388845,
          6.302263824957409,
          8.117217578033463,
          7.710119970074899,
          6.708067810613265,
          7.377422362740065,
          6.959567222404004,
          7.667655265787095,
          6.012315537887127,
          7.607639271731978,
          7.683399375833114,
          7.688917071627449,
          6.095883817488381,
          7.904381266348061,
          5.489258690502403,
          6.171162004840066,
          8.361018660492272,
          9.823507151433224,
          5.542363643899623,
          7.105619057118607,
          7.009805809226096,
          7.656506229429677,
          7.515814624361219,
          6.712006973914058,
          8.198105709931504,
          7.701926488840809,
          5.807121707735631,
          6.383226137929187,
          6.035221327328306,
          6.284582109974256,
          6.66115743127202,
          5.893458351780593,
          7.866135208545801,
          6.423224368793985,
          7.278911618857736,
          7.464893143133992,
          5.824041884169583,
          6.132131503643628,
          7.027441295267254,
          8.150954367608389,
          8.670126667077591,
          6.955821311242535,
          6.501096900445839,
          7.334428247669594,
          8.087495753688605,
          6.7593522120783724,
          9.5640266604158,
          5.729574898504879,
          7.691454199173904,
          6.147209936934442,
          5.869684683498216,
          7.356517092999123,
          8.532725772698734,
          8.7395051283663,
          7.86781524178014,
          6.646355629546837,
          7.401099400667652,
          7.792593266848893,
          5.92236704115349,
          8.014257063844763,
          7.557414861694831,
          7.138813885803813,
          6.4795578439453925,
          9.44614797716712,
          6.57686619244806,
          9.689175439096324,
          9.264883097334067,
          9.297299630484831,
          6.580460163575968,
          5.216368724811043,
          5.803999900907868,
          8.16641628348054,
          6.584414155349218,
          5.770106829394267,
          7.101816885471475,
          10.069434543192138,
          6.610787894788278,
          9.508298704434813,
          7.275077845532682,
          7.347360636957942,
          7.507931030671623,
          9.993375713943584,
          6.0555337414100165,
          8.754513037929026,
          6.028454348997834,
          6.832938265357902,
          5.43502468987419,
          7.605958274587529,
          5.1378906197941525,
          8.345192367125113,
          2.4560135962074776,
          6.356293645964684,
          5.983974183637757,
          7.960887806787365,
          6.81724723500068,
          8.321896839642253,
          7.240819804667903,
          4.996763122252452,
          7.330957605306177,
          7.200309830200364,
          8.231574473126987,
          6.730860948186203,
          9.791960767671595,
          7.690727720492953,
          4.252721409787046,
          8.809433144146196,
          7.816636046720324,
          10.08834488989324,
          6.745588411685346,
          5.497159162658319,
          7.822600687352608,
          5.984901234985347,
          7.692417173913011,
          6.029641484447208,
          4.793574529321033,
          5.074145829065994,
          6.264584284592314,
          6.298969845634645,
          5.1622780440847045,
          6.163319674060597,
          6.987977754010049,
          7.115714670223404,
          8.381737717287855,
          6.907736146953917,
          6.191399219857796,
          6.961265386435571,
          6.361756274566996,
          6.121662233034368,
          5.699539953172675,
          6.129172580010113,
          4.814655980036516,
          5.796841349089036,
          9.922076246517337,
          7.054093205452201,
          7.396764075492321,
          6.985179146933568,
          6.058740241409308,
          6.120771056260089,
          8.200972594216253,
          3.139552657761377,
          7.561175804087703,
          8.390811851463154,
          9.24530582842397,
          5.9050557942709885,
          8.216485933055083,
          8.415948255041112,
          4.970601199345966,
          6.503297311235955,
          6.081664052544265,
          8.163143897751493,
          9.8409485538097,
          8.613303748019465,
          6.842947201540685,
          7.286335787828286,
          7.153363581991464,
          7.72531395856043,
          8.336777937778926,
          8.702061413699436,
          8.85438613128691,
          6.742150214684482,
          6.121931341619024,
          5.908110988006822,
          7.681244589718963,
          6.803061490988782,
          6.196276275580315,
          6.986705178191451,
          7.701630393317624,
          9.120931424656208,
          5.536705208224568,
          6.360070218692954,
          9.648197063754996,
          5.705692803459669,
          9.274119529411774,
          5.734803644794412,
          7.715571777425199,
          6.628037164519292,
          6.253224096114969,
          7.106043485706114,
          3.988748935660376,
          8.107066902830644,
          5.241047394363035,
          9.214409134571252,
          8.271245714487424,
          7.369768571309858,
          8.41089222279898,
          4.702820909863455,
          4.842658321262629,
          9.886831313709733,
          2.62126755562118,
          7.415053893783208,
          5.837151801943094,
          7.432010934769431,
          8.487855964788041,
          6.409476273643096,
          8.034868234556987,
          5.215042349699976,
          6.756200028885186,
          7.856311801421975,
          6.055985023442332,
          8.261635176374645,
          4.074141162371888,
          5.6363884333914696,
          8.649614737162615,
          7.984166087683024,
          7.32185864286384,
          7.557872729231761,
          5.738962366634867,
          9.10701724282177,
          5.818273622676918,
          3.611358231773664,
          7.401662764741698,
          7.594584020038324,
          9.876515048672626,
          4.803372504546434,
          5.635029028384104,
          5.646296962088254,
          6.266781682497788,
          9.252852464062771,
          7.64189452353631,
          3.3312659575740278,
          5.659847929157454,
          7.571951407860145,
          5.622572290348024,
          7.3925169633238,
          8.022936053005736,
          9.360799140816216,
          8.860762307418115,
          7.301688665870163,
          7.461702678887754,
          7.63963391510834,
          6.10951591378841,
          6.844547821736392,
          7.363060149133315,
          9.084967569367894,
          11.264385849612266,
          8.389077863338056,
          5.4544759855144935,
          8.883665238289803,
          7.527317253355598,
          7.532773070641205,
          8.2679741062816,
          7.728504926266409,
          5.484258377749063,
          6.2372223880916655,
          8.2062119287899,
          7.7559050954694015,
          9.60068342275516,
          5.202937534233646,
          5.291516176339442,
          5.11930735918226,
          7.398602628776651,
          6.533392202867743,
          8.047798068058006,
          3.31804504559376,
          8.258578048278167,
          7.589753625517559,
          10.343626123965867,
          8.286210559007483,
          6.203675921735492,
          6.377789860888402,
          7.493432998912598,
          5.588774777187212,
          9.458000394003244,
          7.985668403901338,
          6.401045767391125,
          7.403238654601807,
          7.493024192606254,
          6.030275706989537,
          8.53462900071612,
          7.225366187809402,
          6.194121929450104,
          8.080155764252272,
          8.64203410725165,
          7.57408205793958,
          5.618492389550638,
          6.571089751859015,
          8.08149616212991,
          6.217222542133946,
          10.786499822724414,
          7.42494459051666,
          6.661616200337556,
          6.2153073095431495,
          6.34496341220211,
          5.527299246272879,
          9.504361027329772,
          9.14223366629411,
          8.82741355385482,
          8.115355082281138,
          4.531581223671286,
          7.017578358905798,
          8.46048978651693,
          8.47150895511111,
          8.118115150459,
          7.808013457146303,
          8.820155828731838,
          7.634966832866456,
          2.458609195210029,
          7.656831105336282,
          7.642952268827367,
          8.778717494397316,
          7.054443858805281,
          2.7857184262233883,
          5.850327619082905,
          8.562428188978295,
          9.30914183245864,
          8.720971883476519,
          5.6006199545881366,
          4.792738410027001,
          7.819479247999572,
          8.179967379670233,
          6.015548013766607,
          8.391882653872475,
          7.3776626020556275,
          3.2057862828959096,
          6.212629076321067,
          4.854334534222753,
          7.157951508834973,
          9.035769243880342,
          4.157901706275742,
          5.970186753693504,
          5.927759233164443,
          6.867072504706312,
          10.081609855589498,
          6.343522655052055,
          6.351029021740377,
          8.038872166572107,
          6.888257231216979,
          9.063042096432769,
          7.76373850690762,
          7.016078459188268,
          8.589393961495093,
          5.3053515499292345,
          6.476752767284111,
          9.778122612405303,
          9.116994487137177,
          10.328488971280226,
          6.83336024165987,
          5.007003487348866,
          7.587908534239578,
          5.73798825900627,
          6.819438078276601,
          6.392094599132991,
          6.051233426152701,
          8.332209743016618,
          7.173229426428975,
          7.857856269657002,
          6.356555064233982,
          9.681154302726586,
          4.868479989471089,
          5.029568518180121,
          9.128797716662024,
          7.301735495806889,
          8.808246917822967,
          6.310902368247443,
          8.109311853778678,
          6.096360029402541,
          9.725321293204242,
          8.260928445702813,
          10.120334022861256,
          7.2618107608561555,
          7.62564081064624,
          8.180813359555167,
          5.687072312759987,
          8.28930674549619,
          6.173823145207702,
          6.61154340305096,
          3.992171360485953,
          7.723304587478269,
          6.53702822442459,
          8.229992838553315,
          6.212264734972436,
          7.467623828883603,
          6.340534135395835,
          7.995890069063245,
          7.692413006321582,
          5.194783893813375,
          6.908571954439259,
          4.656537749459582,
          6.566928593579836,
          6.083267855590647,
          7.254980810725014,
          10.896662749833538,
          10.32655756908256,
          7.042326429998641,
          5.690078271351631,
          5.42753272863003,
          5.493514236431062,
          7.722560986916371,
          5.020026909643878,
          5.696063910378516,
          5.332099116893181,
          2.7267656255779578,
          6.253179731903874,
          6.570596051999727,
          8.407449953610357,
          9.502809435242533,
          9.690213096119871,
          7.728601253843125,
          9.771211536427682,
          5.311112031956964,
          8.279275414450787,
          8.312484093284185,
          8.832389880833562,
          8.171994841481562,
          6.286357793908773,
          4.724373099493707,
          7.676323150840254,
          7.085377010059526,
          8.494235191534507,
          6.533468856783324,
          9.387522327942945,
          11.299390212867785,
          5.714311709887958,
          7.905768670318106,
          2.654490953924924,
          6.60809975175673,
          8.297074093893979,
          7.050728842221929,
          7.771205679437534,
          6.844850275669532,
          7.925886801028912,
          8.418958240637183,
          6.866434552832582,
          8.939748149970546,
          9.76592075851118,
          7.146139714096017,
          6.668868088142148,
          7.761108314168174,
          8.548754210740471,
          9.507584644945537,
          5.182435714645063,
          6.672340964984802,
          7.462757885345703,
          8.652210468304967,
          9.536011425597028,
          7.753502379748802,
          9.273679481984235,
          8.344391015666405,
          8.815844632888231,
          6.250893489724113,
          8.433096578121011,
          6.541681459799686,
          3.4095758357574946,
          4.711350412540021,
          8.204102140049303,
          7.569543692616456,
          9.16073963943493,
          6.835951440246375,
          9.84054042532552,
          8.711705729168445,
          5.766780235697147,
          8.987042737214756,
          6.164048563812341,
          6.007956224293777,
          7.847066470239234,
          6.39143892140127,
          10.520555008740166,
          8.323329911892767,
          4.751004539411941,
          9.111721943377136,
          6.536992176124827,
          6.71285418648211,
          7.093310282333076,
          7.967085789423574,
          6.346378213674078,
          5.433802467728858,
          6.665873260533698,
          8.128262379819619,
          9.624699426514695,
          9.753766227622148,
          7.155343780063374,
          6.060118929707662,
          6.456555757336727,
          6.309195827173505,
          8.211762261710513,
          7.15380339665979,
          9.974807880251229,
          7.417040991861769,
          5.560179470099503,
          7.100523370752641,
          4.745340496708158,
          3.8302384224449897,
          8.888347448853745,
          6.557104819555656,
          7.499916848308452,
          12.653362021943142,
          6.387037207808662,
          5.28359355165118,
          8.603926761542617,
          7.717662267670843,
          9.272066266646704,
          3.715065351586488,
          5.762522398067345,
          6.60970624817921,
          8.660268825453098,
          6.888135538142039,
          6.932557933203627,
          7.754532621053169,
          8.217819407900288,
          8.21223430803513,
          7.436213728701341,
          6.559697825911671,
          6.045502870155396,
          8.725582139840052,
          6.262932865175094,
          7.391299312193253,
          6.717972617308032,
          6.373737432069345,
          6.214772832308696,
          7.412765411127279,
          6.78093611514574,
          7.425894079933873,
          4.598669852299243,
          7.0021919944198325,
          7.467684855451429,
          7.572175377074621,
          6.574957586178768,
          7.401366802222235,
          6.22129199951579,
          8.316897373632388,
          6.884918382798614,
          5.224256299847236,
          8.808963365281324,
          6.6415434448154365,
          6.246502454638379,
          6.495619338516966,
          7.200358354772008,
          6.385510463793114,
          6.305472316742188,
          9.33463209267385,
          6.524476298997729,
          7.6701494862203985,
          6.7342280682127,
          7.351021452283115,
          5.9064054859095405,
          7.698581722505345,
          8.005631016283633,
          6.525202657012258,
          7.554047401387347,
          7.659830108984329,
          7.235224038451399,
          7.36881918172737,
          6.548497477825059,
          8.14917752207392,
          7.312352352015045,
          7.496262512744353,
          7.988231917996359,
          6.594682306630487,
          7.116809283709961,
          8.83276202975628,
          5.670027421051015,
          5.56689579210772,
          6.790913893753413,
          6.810977797798223,
          8.725765390191523,
          8.066654024034838,
          6.9576761985003,
          5.792424747539261,
          9.40468730726088,
          8.086517016563963,
          6.4162983065822825,
          7.340595024194956,
          6.935550714808682,
          6.654372296073148,
          6.663397069642296,
          7.583326752098481,
          6.475402064091609,
          6.997171606989552,
          6.8606473723156185,
          7.517905882543813,
          7.821650422876534,
          6.9063478052980125,
          7.213328663165363,
          6.396364451731405,
          7.222004281417241,
          8.011316209784852,
          7.218904024289119,
          6.267475696262486,
          6.125585211067605,
          7.928700188113949,
          7.555320481391812,
          8.211595059274757,
          8.066979900780302,
          7.333742136171539,
          7.899520922132126,
          7.135063441641857,
          6.952616889200849,
          6.067812010702551,
          6.5109801126175775,
          8.60678979248583,
          8.065885726265378,
          6.696355790704156,
          6.48200928116253,
          7.813966644039233,
          8.474123113348943,
          6.519658507972283,
          8.422000034825615,
          7.09959894625112,
          7.369649468415711,
          7.757701624509676,
          8.141301159936118,
          7.041440296130538,
          6.907987009229515,
          8.098312326473618,
          7.194765031466901,
          7.7919819834792445,
          7.131703512231218,
          6.010568765994018,
          7.58817501892342,
          6.43707052209314,
          6.771728798328565,
          6.906496538174993,
          7.487422756527908,
          6.340682430161761,
          6.521470834565831,
          7.407967233394095,
          4.7966658362851735,
          7.664375220029952,
          5.899676356641535,
          7.96206646334495,
          6.7188296734823965,
          6.600786950950184,
          7.662153935671093,
          6.108947365964821,
          7.757769765315594,
          6.028898227810446,
          6.674031760854139,
          7.078689514914572,
          6.769267636869141,
          7.186173311070744,
          8.930688995006285,
          5.544435529850245,
          8.538491677011507,
          7.664060566570742,
          7.281105533226092,
          7.278263165429877,
          6.6188527588159385,
          7.065576303430455,
          7.078344555547338,
          7.214510211890976,
          6.774276121115724,
          7.597980582839567
         ],
         "xaxis": "x",
         "yaxis": "y"
        },
        {
         "alignmentgroup": "True",
         "bingroup": "x",
         "hovertemplate": "Potability=1<br>Chloramines=%{x}<br>count=%{y}<extra></extra>",
         "legendgroup": "1",
         "marker": {
          "color": "#EF553B",
          "pattern": {
           "shape": ""
          }
         },
         "name": "1",
         "offsetgroup": "1",
         "orientation": "v",
         "showlegend": true,
         "type": "histogram",
         "x": [
          9.44447108562294,
          8.016422649173737,
          9.50169458771527,
          7.681806287243673,
          6.28906485943393,
          8.827061283189618,
          9.218150392671168,
          8.857160043515526,
          6.130756541740465,
          7.461170474153534,
          6.749377795488941,
          4.70104934575262,
          6.998961533138952,
          7.23869130092435,
          8.803174745405899,
          7.251978855273583,
          9.754475933171076,
          7.886854526878826,
          12.580026491367864,
          8.066059052365775,
          13.043806107761023,
          5.443386888459755,
          8.477393872457034,
          7.483257698182117,
          9.390842592507877,
          10.422841783337924,
          9.158703902851247,
          9.537735147164778,
          8.691206175159937,
          8.337610433523373,
          4.5545736271835455,
          5.389248620834634,
          8.76787503481929,
          6.157490739246978,
          7.487823264368269,
          10.493840916586826,
          8.550572663151964,
          8.77430610207418,
          7.486598423987717,
          7.939074357822587,
          5.196212760217538,
          4.382721317231579,
          9.511792391790864,
          9.08403988031659,
          8.517986143491289,
          6.105573328902787,
          11.0788724789145,
          7.212253930841305,
          11.1707886197812,
          7.9444693087435,
          7.675187645707463,
          6.231913253120573,
          5.551990467549905,
          10.95620545551429,
          6.61411403077891,
          8.369354097772296,
          8.493406748544633,
          5.164448054837886,
          6.636550648923896,
          5.149999932263159,
          4.955218159094366,
          8.926826327180082,
          7.490944013599902,
          8.151080662487415,
          13.127000000000002,
          7.52737530907068,
          7.217787957548947,
          7.571122584488707,
          7.635152992155966,
          6.207729477942272,
          4.870660378027012,
          6.275304600259224,
          5.630557592180706,
          4.362641197928316,
          10.850036483517218,
          6.775277154369163,
          8.012496989065786,
          4.466577191045226,
          9.960552065163297,
          7.3838186809894655,
          10.068205367364207,
          7.369360303120931,
          8.024953110998103,
          10.514466037259698,
          4.613310782608283,
          8.63071896535268,
          7.23592175948416,
          10.236175974570024,
          9.077984756164897,
          7.555029709998242,
          5.257789016285808,
          8.85554447353044,
          6.890505480307937,
          5.929307621591023,
          8.56548727319319,
          7.728859875071584,
          8.08824196976233,
          8.433448388281507,
          5.03601005290663,
          6.2954050221532505,
          2.4843799772443687,
          4.945555199305746,
          7.241343464835192,
          8.867293830473216,
          7.198432414854298,
          6.121463538019163,
          8.982036448800589,
          5.574341667234688,
          7.411483499547991,
          7.569518149893523,
          9.426339354029771,
          5.575906369507383,
          5.94369457895465,
          5.02314259061121,
          7.832473707577792,
          5.431878695884324,
          9.12490032158066,
          7.547859470408599,
          10.508809892873716,
          7.6853697349708545,
          6.895013644713986,
          7.728177044016057,
          6.033247172047696,
          6.2038687851292345,
          6.029670479976019,
          7.248624986357715,
          7.640874321804035,
          8.181988064844402,
          9.203614112389076,
          5.789668676373399,
          9.256097772286736,
          8.392833532289163,
          4.023081338990855,
          9.817335635498171,
          6.64391802773037,
          8.428753588042051,
          4.790681389223984,
          5.246381746649555,
          8.14664316834556,
          7.512608141042463,
          3.4624920476792767,
          7.582123856166227,
          6.048437038051848,
          6.779005476818379,
          8.657341897259338,
          7.172920416881898,
          7.602251873891982,
          4.9243889968068135,
          9.288019857195886,
          11.523597512651357,
          8.866359287204885,
          4.649253929836745,
          7.605420787733807,
          9.15458050661148,
          7.691012379460733,
          5.892962668914752,
          3.924182928425397,
          7.986456361636122,
          6.553957721862112,
          9.821498519744832,
          8.350110051861993,
          10.149936905895792,
          8.604504846292835,
          10.031146372241002,
          7.365015093298825,
          5.654856360975956,
          9.772521848077082,
          2.8660730298495407,
          6.241348598048285,
          6.953307779687905,
          7.924616265268947,
          6.844017626422233,
          5.464057647765709,
          9.842346073332996,
          9.899636695088748,
          8.577249576739348,
          4.415975931396427,
          5.657004242761536,
          4.184890691838287,
          5.35153318891046,
          4.138540036994002,
          6.011610979169929,
          9.241762922024453,
          6.72284290895704,
          8.292444792039035,
          10.08953714883008,
          9.288199604583657,
          8.863272376077974,
          6.185947771279679,
          6.060143581856844,
          4.8943736166150975,
          8.186478946067783,
          2.862535374452988,
          7.716922923418477,
          4.823831505497687,
          9.29328864439756,
          8.534458442405425,
          9.99762356652512,
          11.30283118849055,
          7.689190528554683,
          4.584133909828415,
          7.947534131189498,
          6.283249716056102,
          9.609895813228702,
          5.232749727921741,
          6.125251637811496,
          10.999995159050403,
          7.652073244872579,
          9.180703191789364,
          7.631357065523394,
          9.007161200505026,
          6.734527285410932,
          9.422100574893728,
          8.696478833800825,
          5.84611204151865,
          6.378364493521163,
          4.600729970888528,
          3.18118329063755,
          7.475273364334676,
          8.458102715694844,
          5.742828934596181,
          2.7417121173046723,
          10.365679862326058,
          5.271367216524433,
          7.3175751855196625,
          7.931502716678679,
          3.372369253748352,
          7.898731599954655,
          4.105766322585412,
          8.175744201693186,
          5.857333129140415,
          9.125163915775502,
          4.146601117658612,
          6.225933055611912,
          5.491962672908565,
          7.0780148890041295,
          8.556396061089337,
          7.773484085746959,
          6.701159346040737,
          3.651961339353696,
          8.980270623695109,
          6.914685302912404,
          5.648145717519176,
          3.6844626644107903,
          8.353373632495304,
          6.040735165120504,
          6.18785720964272,
          7.698690079377398,
          7.490508409340612,
          5.573848753615652,
          4.991061122347455,
          6.354814991677399,
          5.605863656386442,
          3.3116072571688484,
          5.888459997642613,
          5.684492227939808,
          9.548769015124698,
          5.2991636367056,
          5.215861524347611,
          4.371024856309438,
          6.968422637847091,
          5.381993558098351,
          9.492074041013112,
          5.003730631924251,
          4.984431830347783,
          5.214315143188376,
          7.532191965992924,
          7.443243199299871,
          7.96452512488874,
          7.784749911423435,
          4.219710533068505,
          6.433183887942168,
          5.885557479524616,
          4.242828908559183,
          4.143329384036738,
          6.164621288543354,
          5.687754930947671,
          9.982723538040052,
          9.796999515077292,
          7.415405532414375,
          7.224710174935922,
          5.66265724677601,
          5.438776428929289,
          5.568042052840514,
          8.111958085302863,
          6.032863905159469,
          8.417895728135505,
          5.330123052152086,
          7.009437062121737,
          5.892272673694608,
          6.559265111493522,
          8.076613046836648,
          7.362410882893811,
          6.878354263572089,
          8.06469307232728,
          7.838884173635478,
          6.456238476905327,
          7.5724354712978945,
          6.811415524954471,
          9.469763496724733,
          7.8700615413288,
          7.003487667065503,
          6.278292699450075,
          8.877010593115735,
          7.652135132079867,
          6.35293353105966,
          7.408017537424175,
          6.772753383250597,
          7.856556902117845,
          6.867963632037966,
          7.673719024583923,
          4.33912599905565,
          5.298877261876914,
          5.274744658651156,
          6.690393745252398,
          9.194574840122243,
          10.116984176644849,
          7.019971074841608,
          4.881376648213999,
          8.50940333925466,
          4.768780800964818,
          6.939853225180281,
          4.7270723230968885,
          9.378390092203825,
          8.915970937560093,
          7.12077230286162,
          6.851404882360647,
          11.129153658303936,
          5.265557586247642,
          7.34238063859913,
          5.703617133676215,
          3.4026815899619844,
          7.425580496980975,
          6.182409481989718,
          6.062561086621286,
          7.751461185910855,
          4.973866332075417,
          6.392120730986492,
          7.784123048553013,
          7.717186742132455,
          3.2314384013788304,
          7.570768596359379,
          8.706012437470024,
          6.502544137326676,
          4.973592706222023,
          7.144655074770772,
          4.38109672011746,
          6.812415640336417,
          8.283757694778313,
          9.610055885550429,
          8.165222040842318,
          5.687865445343612,
          8.208677807352506,
          7.907876694584349,
          5.9222929487923865,
          9.752087959847046,
          7.158342920651847,
          6.369162812139627,
          7.639210005222214,
          7.015365326271725,
          7.773735987643992,
          9.989628390971694,
          5.808579500930309,
          9.566105409835142,
          6.594144886088997,
          6.529774495645817,
          6.765469172057388,
          7.177445308764305,
          7.130161148170633,
          7.654550197659413,
          5.089127565678716,
          6.390679360955504,
          7.156540539745273,
          10.573402909396457,
          8.960736007790159,
          6.371977545205873,
          7.623012262282329,
          7.044432594927276,
          6.8263306319169,
          6.881658941448617,
          6.997160010542585,
          6.862782053514225,
          8.038212717585301,
          9.923315466056431,
          5.494254342147788,
          5.602313546992777,
          6.938467052899352,
          7.022187020358024,
          7.0516974329329605,
          8.361337388791465,
          8.435789355784177,
          7.002092479278954,
          8.47690539073455,
          7.881448097184417,
          7.196435142502073,
          5.265718338065395,
          8.806392748957961,
          8.267536832327547,
          7.837777990854427,
          6.975602003973421,
          9.035250353796991,
          5.693751919932961,
          7.525440974837567,
          8.450272354606483,
          6.4759944301482415,
          6.457686555183607,
          6.363537539773553,
          7.404434524442212,
          6.34140695887747,
          6.8204689804050265,
          7.930381857190964,
          7.871025150780389,
          6.407647889270883,
          8.457661649744294,
          7.074062933998013,
          6.680188314390799,
          5.783275484202249,
          8.533888277656953,
          7.78291530782294,
          8.59111309966701,
          7.43449274757963,
          7.452361819474242,
          6.772750799041366,
          8.14251283428053,
          7.294577390106759,
          6.404354015290895,
          6.730577013294539,
          8.378282176906978,
          8.899711625929987,
          5.047915868669222,
          7.704989892484599,
          6.611448597083937,
          8.98678433778731,
          8.283068933566303,
          5.73602687789666,
          6.43093480799846,
          9.492361328958149,
          8.257751124841384,
          6.002653035061753,
          7.784203339169811,
          8.972661232218787,
          8.895421661297222,
          5.138838499145021,
          7.381256051400532,
          10.41083526515133,
          8.222533309306083,
          6.6306745098240025,
          7.043424624083506,
          7.851400220551362,
          6.572681848401118,
          5.31199041263291,
          8.283955430574803,
          5.836980435814227,
          7.112622452037526,
          7.794726949202301,
          5.677451117249203,
          7.764668384049106,
          4.449122632711616,
          8.22672479852216,
          9.14159700404448,
          5.305394004221403,
          6.084132842086124,
          7.992914378232637,
          6.194910000092316,
          5.88788510267209,
          7.656806896244371,
          7.385414293946828,
          8.166793311751535,
          7.74892129486267,
          8.49334762370914,
          8.852270123017838,
          7.059382855730257,
          6.208574002625104,
          6.588566093133087,
          7.300091677163146,
          7.304628015427524,
          6.608774671819704,
          7.929904388301963,
          8.33027629009801,
          7.667533316037838,
          5.766832204959284,
          7.254121956467008,
          7.723292486876025,
          6.378917977073916,
          9.36753268783956,
          6.875298924484605,
          5.975488073209139,
          6.931095897331531,
          7.623241594883384,
          6.731610675622372,
          6.475112718944898,
          8.495903871344124,
          4.752267562975149,
          7.835638736326533,
          4.947531357152716,
          6.7619285106595175,
          9.710618837152984,
          4.26327909194399,
          6.607844327158406,
          6.958284223872553,
          9.181472938087696,
          2.4985967213169733,
          5.402654753079641,
          9.752750871727184,
          9.674860448761429,
          6.452140869579198,
          7.306447324109384,
          8.508750972457303,
          5.196132621399963,
          8.263803916982441,
          6.6144379698152695,
          8.343510207048167,
          6.411410462619055,
          6.379970101156275,
          6.822156741058116,
          6.819603096244566,
          6.305787650533418,
          6.664443788811873,
          3.117440980065026,
          5.657812133049573,
          3.5211252174992507,
          8.095426538132969,
          7.335960310335099,
          5.230477275898359,
          7.936652408675291,
          12.626899738790904,
          5.809435938892817,
          5.354516204932816,
          8.219240345248597,
          5.446562741244111,
          5.01402281172122,
          11.101628109872705,
          6.508853439206952,
          2.855789795310306,
          5.714731299239791,
          7.471727772298008,
          1.3908709048851806,
          6.489931491506645,
          2.39798498956576,
          6.642337169245401,
          6.70709459234911,
          3.5237139413829164,
          7.741975288974793,
          7.823612288977235,
          9.12842211372743,
          4.613721483792887,
          7.832320390412843,
          10.860294995090388,
          11.994290224518096,
          8.003186613087149,
          4.7269122862033495,
          6.454876484142466,
          4.013444409697543,
          8.043354126979011,
          6.907202815535574,
          7.632370159509795,
          6.106764784339333,
          7.471614406460985,
          4.433724763106108,
          9.603302351309988,
          9.29611401431356,
          9.68643479820874,
          5.955008397109832,
          8.306960457626596,
          7.954721153303788,
          7.271299466669348,
          11.448469328247167,
          6.987854135150098,
          7.86887830943357,
          7.264677555112612,
          1.92027144925428,
          5.839218684966128,
          9.883945511518238,
          6.318063039015589,
          6.7746097430471695,
          5.34008845320107,
          7.145335458433946,
          7.98403919630692,
          10.11046222802238,
          3.440880123602577,
          4.344706917833362,
          10.18952799658635,
          8.881111781915259,
          3.833901836565748,
          6.727918856969923,
          12.24639409776954,
          5.533208317774516,
          7.669540025909633,
          5.399012624095749,
          5.775932909898134,
          6.839622493454928,
          9.34562132951958,
          4.300509254913657,
          7.446877056414904,
          7.536805720810975,
          5.607450056121154,
          9.341475229715137,
          6.149493861922862,
          6.248929383428646,
          6.374708984211272,
          12.227175278872044,
          11.930447965564245,
          3.2679840915011398,
          10.585501376330653,
          6.765117879792386,
          6.406814395196608,
          6.95200803307596,
          9.178560476664668,
          4.17910796288259,
          7.2834542169338,
          7.396472119149486,
          7.339173310543906,
          2.648389906859159,
          6.900029880617981,
          6.616367521487831,
          5.573277338729333,
          7.894120346705541,
          9.112558175692884,
          5.649970632740677,
          7.304928195439939,
          6.146098439515495,
          8.606774254853429,
          8.191827053754649,
          8.063334618675412,
          7.248866700092826,
          7.874166460655202,
          6.581327180699622,
          6.627059043301967,
          5.166942295288669,
          7.453900170724688,
          5.1287325411688105,
          6.91872650291659,
          9.57782026297432,
          8.985571802690806,
          7.041827749776457,
          7.759843399542577,
          8.095991371989015,
          6.1968764897226,
          8.493784319811613,
          7.32999890233211,
          7.542775331563176,
          9.734512546383284,
          7.198434575553271,
          7.156737918080303,
          7.634362144497116,
          8.136930576288464,
          6.550096293006814,
          7.714446559672639,
          5.784975793149856,
          7.668510397528325,
          7.473070208285623,
          5.8417498740425255,
          8.37017929917063,
          5.407691662106037,
          6.280886804932884,
          7.076944002447285,
          6.791509363412849,
          6.289036105400298,
          5.992480374252229,
          7.631345800124248,
          6.043959345191263,
          6.369175394060361,
          8.199318452874493,
          7.074906687460708,
          3.016032602671193,
          7.35294059207056,
          8.180874177915136,
          5.83068529423083,
          8.037399953697514,
          9.829674656014388,
          6.308729513316849,
          5.216280115807192,
          8.031864862891307,
          7.127077798121801,
          6.230581825397784,
          7.140121953336555,
          6.579328071104777,
          5.378285961181126,
          7.3955296826678,
          7.97804398390079,
          8.045869831293803,
          6.701766574304423,
          9.36436116788196,
          7.567418625886672,
          8.986862677728771,
          5.2688072037166975,
          5.924459987446995,
          7.384126121281199,
          8.045991282850062,
          6.845743996808342,
          8.341669769803286,
          8.754110049072283,
          8.723064211950991,
          7.982595216401367,
          7.624238583045931,
          7.071299151714212,
          7.696751399214669,
          7.588021340273935,
          5.412481384644464,
          9.013016217643194,
          5.436264151807441,
          8.076995435790266,
          9.827309049243365,
          6.602451653034367,
          7.597451675399671,
          6.390966016442871,
          9.586090231034175,
          6.473673832546811,
          6.011964238184745,
          7.458741450053704,
          6.179495870819559,
          5.596240507286585,
          8.091014004638305,
          6.123297466049608,
          8.172548400173357,
          6.954230561602053,
          4.892716651174616,
          7.843497716454735,
          6.554857685167836,
          6.809153177405537,
          8.423765852502946,
          7.797840028172333,
          6.454924771941508,
          6.834673314493745,
          7.696942683440743,
          6.785520511774099,
          8.082003931853437,
          8.005172947231275,
          7.108809424689269,
          10.282328870705385,
          9.513269116233849,
          6.496722627942392,
          6.100064295307396,
          7.117858564061427,
          7.4753362078876355,
          7.166733690414065,
          6.046385489584265,
          8.45763867714476,
          6.140033164031195,
          6.894915429194337,
          8.097193741185114,
          7.762861766330197,
          6.126270002317292,
          9.989551220939507,
          6.445512852939411,
          7.839066572142404,
          6.086599373560465,
          5.816215976191796,
          7.62554508089964,
          9.844921431275466,
          7.930651012247173,
          6.826782139377206,
          9.143046046687209,
          6.675080629168261,
          9.050080219969011,
          8.577654500763229,
          6.9774209002962175,
          7.744713611140504,
          5.879183845348483,
          9.129754931533986,
          7.641776466935965,
          7.661687284296819,
          6.543134476282099,
          6.368862018681716,
          9.36833977172888,
          8.773161930761969,
          5.9473503501534495,
          8.860818357278797,
          7.764692573248689,
          7.900790105684598,
          6.703538564300445,
          6.298121347138782,
          8.368785486252278,
          4.755312178656423,
          4.157335299373067,
          7.001788101358392,
          4.0726262629147385,
          8.001377824874378,
          7.633725249675295,
          5.8627172735769895,
          8.735315343467212,
          7.441486515976747,
          8.399435299469037,
          6.37563198794617,
          8.027819437526281,
          5.38543992959052,
          7.143906655908775,
          6.435809198082079,
          4.80675901959762,
          5.740321172931416,
          3.4581916819703147,
          7.071294493360232,
          7.154890693981027,
          5.782417746039318,
          7.966710438575026,
          6.442769292150998,
          8.310194997763043,
          7.639572886949698,
          7.452236189756758,
          7.8264110490998995,
          5.33620199356427,
          6.618071066219877,
          6.477056754250701,
          5.50116404338138,
          6.3495608678905295,
          6.472914285587643,
          6.29731152709713,
          7.708116997755447,
          9.263166160944529,
          7.7475474812942835,
          7.166638935482532
         ],
         "xaxis": "x",
         "yaxis": "y"
        }
       ],
       "layout": {
        "barmode": "relative",
        "legend": {
         "title": {
          "text": "Potability"
         },
         "tracegroupgap": 0
        },
        "template": {
         "data": {
          "bar": [
           {
            "error_x": {
             "color": "#2a3f5f"
            },
            "error_y": {
             "color": "#2a3f5f"
            },
            "marker": {
             "line": {
              "color": "#E5ECF6",
              "width": 0.5
             },
             "pattern": {
              "fillmode": "overlay",
              "size": 10,
              "solidity": 0.2
             }
            },
            "type": "bar"
           }
          ],
          "barpolar": [
           {
            "marker": {
             "line": {
              "color": "#E5ECF6",
              "width": 0.5
             },
             "pattern": {
              "fillmode": "overlay",
              "size": 10,
              "solidity": 0.2
             }
            },
            "type": "barpolar"
           }
          ],
          "carpet": [
           {
            "aaxis": {
             "endlinecolor": "#2a3f5f",
             "gridcolor": "white",
             "linecolor": "white",
             "minorgridcolor": "white",
             "startlinecolor": "#2a3f5f"
            },
            "baxis": {
             "endlinecolor": "#2a3f5f",
             "gridcolor": "white",
             "linecolor": "white",
             "minorgridcolor": "white",
             "startlinecolor": "#2a3f5f"
            },
            "type": "carpet"
           }
          ],
          "choropleth": [
           {
            "colorbar": {
             "outlinewidth": 0,
             "ticks": ""
            },
            "type": "choropleth"
           }
          ],
          "contour": [
           {
            "colorbar": {
             "outlinewidth": 0,
             "ticks": ""
            },
            "colorscale": [
             [
              0,
              "#0d0887"
             ],
             [
              0.1111111111111111,
              "#46039f"
             ],
             [
              0.2222222222222222,
              "#7201a8"
             ],
             [
              0.3333333333333333,
              "#9c179e"
             ],
             [
              0.4444444444444444,
              "#bd3786"
             ],
             [
              0.5555555555555556,
              "#d8576b"
             ],
             [
              0.6666666666666666,
              "#ed7953"
             ],
             [
              0.7777777777777778,
              "#fb9f3a"
             ],
             [
              0.8888888888888888,
              "#fdca26"
             ],
             [
              1,
              "#f0f921"
             ]
            ],
            "type": "contour"
           }
          ],
          "contourcarpet": [
           {
            "colorbar": {
             "outlinewidth": 0,
             "ticks": ""
            },
            "type": "contourcarpet"
           }
          ],
          "heatmap": [
           {
            "colorbar": {
             "outlinewidth": 0,
             "ticks": ""
            },
            "colorscale": [
             [
              0,
              "#0d0887"
             ],
             [
              0.1111111111111111,
              "#46039f"
             ],
             [
              0.2222222222222222,
              "#7201a8"
             ],
             [
              0.3333333333333333,
              "#9c179e"
             ],
             [
              0.4444444444444444,
              "#bd3786"
             ],
             [
              0.5555555555555556,
              "#d8576b"
             ],
             [
              0.6666666666666666,
              "#ed7953"
             ],
             [
              0.7777777777777778,
              "#fb9f3a"
             ],
             [
              0.8888888888888888,
              "#fdca26"
             ],
             [
              1,
              "#f0f921"
             ]
            ],
            "type": "heatmap"
           }
          ],
          "heatmapgl": [
           {
            "colorbar": {
             "outlinewidth": 0,
             "ticks": ""
            },
            "colorscale": [
             [
              0,
              "#0d0887"
             ],
             [
              0.1111111111111111,
              "#46039f"
             ],
             [
              0.2222222222222222,
              "#7201a8"
             ],
             [
              0.3333333333333333,
              "#9c179e"
             ],
             [
              0.4444444444444444,
              "#bd3786"
             ],
             [
              0.5555555555555556,
              "#d8576b"
             ],
             [
              0.6666666666666666,
              "#ed7953"
             ],
             [
              0.7777777777777778,
              "#fb9f3a"
             ],
             [
              0.8888888888888888,
              "#fdca26"
             ],
             [
              1,
              "#f0f921"
             ]
            ],
            "type": "heatmapgl"
           }
          ],
          "histogram": [
           {
            "marker": {
             "pattern": {
              "fillmode": "overlay",
              "size": 10,
              "solidity": 0.2
             }
            },
            "type": "histogram"
           }
          ],
          "histogram2d": [
           {
            "colorbar": {
             "outlinewidth": 0,
             "ticks": ""
            },
            "colorscale": [
             [
              0,
              "#0d0887"
             ],
             [
              0.1111111111111111,
              "#46039f"
             ],
             [
              0.2222222222222222,
              "#7201a8"
             ],
             [
              0.3333333333333333,
              "#9c179e"
             ],
             [
              0.4444444444444444,
              "#bd3786"
             ],
             [
              0.5555555555555556,
              "#d8576b"
             ],
             [
              0.6666666666666666,
              "#ed7953"
             ],
             [
              0.7777777777777778,
              "#fb9f3a"
             ],
             [
              0.8888888888888888,
              "#fdca26"
             ],
             [
              1,
              "#f0f921"
             ]
            ],
            "type": "histogram2d"
           }
          ],
          "histogram2dcontour": [
           {
            "colorbar": {
             "outlinewidth": 0,
             "ticks": ""
            },
            "colorscale": [
             [
              0,
              "#0d0887"
             ],
             [
              0.1111111111111111,
              "#46039f"
             ],
             [
              0.2222222222222222,
              "#7201a8"
             ],
             [
              0.3333333333333333,
              "#9c179e"
             ],
             [
              0.4444444444444444,
              "#bd3786"
             ],
             [
              0.5555555555555556,
              "#d8576b"
             ],
             [
              0.6666666666666666,
              "#ed7953"
             ],
             [
              0.7777777777777778,
              "#fb9f3a"
             ],
             [
              0.8888888888888888,
              "#fdca26"
             ],
             [
              1,
              "#f0f921"
             ]
            ],
            "type": "histogram2dcontour"
           }
          ],
          "mesh3d": [
           {
            "colorbar": {
             "outlinewidth": 0,
             "ticks": ""
            },
            "type": "mesh3d"
           }
          ],
          "parcoords": [
           {
            "line": {
             "colorbar": {
              "outlinewidth": 0,
              "ticks": ""
             }
            },
            "type": "parcoords"
           }
          ],
          "pie": [
           {
            "automargin": true,
            "type": "pie"
           }
          ],
          "scatter": [
           {
            "marker": {
             "colorbar": {
              "outlinewidth": 0,
              "ticks": ""
             }
            },
            "type": "scatter"
           }
          ],
          "scatter3d": [
           {
            "line": {
             "colorbar": {
              "outlinewidth": 0,
              "ticks": ""
             }
            },
            "marker": {
             "colorbar": {
              "outlinewidth": 0,
              "ticks": ""
             }
            },
            "type": "scatter3d"
           }
          ],
          "scattercarpet": [
           {
            "marker": {
             "colorbar": {
              "outlinewidth": 0,
              "ticks": ""
             }
            },
            "type": "scattercarpet"
           }
          ],
          "scattergeo": [
           {
            "marker": {
             "colorbar": {
              "outlinewidth": 0,
              "ticks": ""
             }
            },
            "type": "scattergeo"
           }
          ],
          "scattergl": [
           {
            "marker": {
             "colorbar": {
              "outlinewidth": 0,
              "ticks": ""
             }
            },
            "type": "scattergl"
           }
          ],
          "scattermapbox": [
           {
            "marker": {
             "colorbar": {
              "outlinewidth": 0,
              "ticks": ""
             }
            },
            "type": "scattermapbox"
           }
          ],
          "scatterpolar": [
           {
            "marker": {
             "colorbar": {
              "outlinewidth": 0,
              "ticks": ""
             }
            },
            "type": "scatterpolar"
           }
          ],
          "scatterpolargl": [
           {
            "marker": {
             "colorbar": {
              "outlinewidth": 0,
              "ticks": ""
             }
            },
            "type": "scatterpolargl"
           }
          ],
          "scatterternary": [
           {
            "marker": {
             "colorbar": {
              "outlinewidth": 0,
              "ticks": ""
             }
            },
            "type": "scatterternary"
           }
          ],
          "surface": [
           {
            "colorbar": {
             "outlinewidth": 0,
             "ticks": ""
            },
            "colorscale": [
             [
              0,
              "#0d0887"
             ],
             [
              0.1111111111111111,
              "#46039f"
             ],
             [
              0.2222222222222222,
              "#7201a8"
             ],
             [
              0.3333333333333333,
              "#9c179e"
             ],
             [
              0.4444444444444444,
              "#bd3786"
             ],
             [
              0.5555555555555556,
              "#d8576b"
             ],
             [
              0.6666666666666666,
              "#ed7953"
             ],
             [
              0.7777777777777778,
              "#fb9f3a"
             ],
             [
              0.8888888888888888,
              "#fdca26"
             ],
             [
              1,
              "#f0f921"
             ]
            ],
            "type": "surface"
           }
          ],
          "table": [
           {
            "cells": {
             "fill": {
              "color": "#EBF0F8"
             },
             "line": {
              "color": "white"
             }
            },
            "header": {
             "fill": {
              "color": "#C8D4E3"
             },
             "line": {
              "color": "white"
             }
            },
            "type": "table"
           }
          ]
         },
         "layout": {
          "annotationdefaults": {
           "arrowcolor": "#2a3f5f",
           "arrowhead": 0,
           "arrowwidth": 1
          },
          "autotypenumbers": "strict",
          "coloraxis": {
           "colorbar": {
            "outlinewidth": 0,
            "ticks": ""
           }
          },
          "colorscale": {
           "diverging": [
            [
             0,
             "#8e0152"
            ],
            [
             0.1,
             "#c51b7d"
            ],
            [
             0.2,
             "#de77ae"
            ],
            [
             0.3,
             "#f1b6da"
            ],
            [
             0.4,
             "#fde0ef"
            ],
            [
             0.5,
             "#f7f7f7"
            ],
            [
             0.6,
             "#e6f5d0"
            ],
            [
             0.7,
             "#b8e186"
            ],
            [
             0.8,
             "#7fbc41"
            ],
            [
             0.9,
             "#4d9221"
            ],
            [
             1,
             "#276419"
            ]
           ],
           "sequential": [
            [
             0,
             "#0d0887"
            ],
            [
             0.1111111111111111,
             "#46039f"
            ],
            [
             0.2222222222222222,
             "#7201a8"
            ],
            [
             0.3333333333333333,
             "#9c179e"
            ],
            [
             0.4444444444444444,
             "#bd3786"
            ],
            [
             0.5555555555555556,
             "#d8576b"
            ],
            [
             0.6666666666666666,
             "#ed7953"
            ],
            [
             0.7777777777777778,
             "#fb9f3a"
            ],
            [
             0.8888888888888888,
             "#fdca26"
            ],
            [
             1,
             "#f0f921"
            ]
           ],
           "sequentialminus": [
            [
             0,
             "#0d0887"
            ],
            [
             0.1111111111111111,
             "#46039f"
            ],
            [
             0.2222222222222222,
             "#7201a8"
            ],
            [
             0.3333333333333333,
             "#9c179e"
            ],
            [
             0.4444444444444444,
             "#bd3786"
            ],
            [
             0.5555555555555556,
             "#d8576b"
            ],
            [
             0.6666666666666666,
             "#ed7953"
            ],
            [
             0.7777777777777778,
             "#fb9f3a"
            ],
            [
             0.8888888888888888,
             "#fdca26"
            ],
            [
             1,
             "#f0f921"
            ]
           ]
          },
          "colorway": [
           "#636efa",
           "#EF553B",
           "#00cc96",
           "#ab63fa",
           "#FFA15A",
           "#19d3f3",
           "#FF6692",
           "#B6E880",
           "#FF97FF",
           "#FECB52"
          ],
          "font": {
           "color": "#2a3f5f"
          },
          "geo": {
           "bgcolor": "white",
           "lakecolor": "white",
           "landcolor": "#E5ECF6",
           "showlakes": true,
           "showland": true,
           "subunitcolor": "white"
          },
          "hoverlabel": {
           "align": "left"
          },
          "hovermode": "closest",
          "mapbox": {
           "style": "light"
          },
          "paper_bgcolor": "white",
          "plot_bgcolor": "#E5ECF6",
          "polar": {
           "angularaxis": {
            "gridcolor": "white",
            "linecolor": "white",
            "ticks": ""
           },
           "bgcolor": "#E5ECF6",
           "radialaxis": {
            "gridcolor": "white",
            "linecolor": "white",
            "ticks": ""
           }
          },
          "scene": {
           "xaxis": {
            "backgroundcolor": "#E5ECF6",
            "gridcolor": "white",
            "gridwidth": 2,
            "linecolor": "white",
            "showbackground": true,
            "ticks": "",
            "zerolinecolor": "white"
           },
           "yaxis": {
            "backgroundcolor": "#E5ECF6",
            "gridcolor": "white",
            "gridwidth": 2,
            "linecolor": "white",
            "showbackground": true,
            "ticks": "",
            "zerolinecolor": "white"
           },
           "zaxis": {
            "backgroundcolor": "#E5ECF6",
            "gridcolor": "white",
            "gridwidth": 2,
            "linecolor": "white",
            "showbackground": true,
            "ticks": "",
            "zerolinecolor": "white"
           }
          },
          "shapedefaults": {
           "line": {
            "color": "#2a3f5f"
           }
          },
          "ternary": {
           "aaxis": {
            "gridcolor": "white",
            "linecolor": "white",
            "ticks": ""
           },
           "baxis": {
            "gridcolor": "white",
            "linecolor": "white",
            "ticks": ""
           },
           "bgcolor": "#E5ECF6",
           "caxis": {
            "gridcolor": "white",
            "linecolor": "white",
            "ticks": ""
           }
          },
          "title": {
           "x": 0.05
          },
          "xaxis": {
           "automargin": true,
           "gridcolor": "white",
           "linecolor": "white",
           "ticks": "",
           "title": {
            "standoff": 15
           },
           "zerolinecolor": "white",
           "zerolinewidth": 2
          },
          "yaxis": {
           "automargin": true,
           "gridcolor": "white",
           "linecolor": "white",
           "ticks": "",
           "title": {
            "standoff": 15
           },
           "zerolinecolor": "white",
           "zerolinewidth": 2
          }
         }
        },
        "title": {
         "text": "Factors Affecting Water Quality: Chloramines"
        },
        "xaxis": {
         "anchor": "y",
         "domain": [
          0,
          1
         ],
         "title": {
          "text": "Chloramines"
         }
        },
        "yaxis": {
         "anchor": "x",
         "domain": [
          0,
          1
         ],
         "title": {
          "text": "count"
         }
        }
       }
      },
      "text/html": [
       "<div>                            <div id=\"bd03d366-e9c1-49b1-9599-891c2e2fc396\" class=\"plotly-graph-div\" style=\"height:525px; width:100%;\"></div>            <script type=\"text/javascript\">                require([\"plotly\"], function(Plotly) {                    window.PLOTLYENV=window.PLOTLYENV || {};                                    if (document.getElementById(\"bd03d366-e9c1-49b1-9599-891c2e2fc396\")) {                    Plotly.newPlot(                        \"bd03d366-e9c1-49b1-9599-891c2e2fc396\",                        [{\"alignmentgroup\":\"True\",\"bingroup\":\"x\",\"hovertemplate\":\"Potability=0<br>Chloramines=%{x}<br>count=%{y}<extra></extra>\",\"legendgroup\":\"0\",\"marker\":{\"color\":\"#636efa\",\"pattern\":{\"shape\":\"\"}},\"name\":\"0\",\"offsetgroup\":\"0\",\"orientation\":\"v\",\"showlegend\":true,\"x\":[8.05933237743854,6.546599974207941,7.54486878877965,7.5134084658313025,4.563008685599703,9.077200016914391,7.550700906704114,3.60603609050572,9.629596276480584,6.904989726470096,4.432669290372123,5.858769130547582,10.056852484033495,8.67093691991312,8.782147480773485,5.994678646449973,8.161504810728331,6.845952023844903,6.060712994989327,5.538314133481364,6.110612421393192,7.993829562375316,6.81402870120907,6.882248306781502,4.462707246137983,5.570783575394459,4.915101054543186,5.212314602065352,4.961066380191502,7.2307947693374,6.991259996238134,8.282808464509609,7.230164126862036,6.9948396173050975,5.375559891974689,8.983276144386597,5.837086492837437,3.8030364235979857,7.050503159576975,7.092462955305368,6.821679099461131,6.6845702741913415,5.756930038692856,9.86504750268218,6.505923138805981,7.648599331443458,5.1277468613272,7.884990657868601,6.799841410225563,6.655126362567496,6.325442403664851,6.588374366182638,5.495737654707861,7.587196417947506,6.181839616382845,8.18741579072919,6.202469332114029,7.726040434165082,7.391510138420656,7.483708837987377,8.27079293672615,7.954015627092478,6.4430978778694525,3.998265840980654,7.303126583151656,8.38676100823379,8.569781529733312,9.008495193731893,5.392651282023056,7.091521514260433,7.822528490547928,8.912266340684624,9.616330436939966,6.201982767323312,3.749625148300965,7.121477448104934,4.916302562031351,9.63563608296433,8.130472208247298,7.130436799595529,7.484103646670236,9.00600774687328,5.820655207859319,7.262416638654269,6.137757462086741,7.923315374812149,6.250578031106523,5.819022939611381,8.349709766709022,6.925706079789448,9.900546897053909,6.531261269813094,4.506293474405815,8.977286380775292,7.302351651289456,6.313181872058335,8.54973827385147,8.21493885317026,7.62791913004187,8.105802881560642,6.967094561617943,5.828357794463706,6.440999765643898,4.8452054756401095,8.96137237710277,7.751285440069857,5.529942235981782,8.830102319230392,9.220128211470378,7.685775096243834,8.879822933865775,7.121263608584251,5.701659125426225,5.809031561747345,6.501596204518965,7.658746878098305,7.567676884281859,5.317019274608898,4.405034532267237,7.683742220804051,3.351597819645086,5.366011335667973,5.293918606634048,6.600853063787393,7.205262042399628,6.958283209737815,7.428313128360553,8.951692284573435,6.5977643395030885,6.28604310963364,3.615890517202109,7.841541552765099,5.318731980337871,7.22297155669755,7.675826174302703,6.110019418331791,7.244753274494474,10.219804099110648,6.394463065325563,4.210284080582492,5.396716118190096,4.948814508726159,6.500825401623311,6.049600899198109,5.682035301583484,8.12108014749549,6.500052537164006,5.922450614186979,4.271544671064371,7.214895724180281,6.156110794077742,5.987876583564684,8.11473101538499,8.757133178602194,5.55166044710827,6.202721182268095,8.435470110486323,10.41658888057755,4.528076190732979,8.008618310012316,9.922077892734912,8.832137591649273,6.485594270819234,7.018164992223185,9.86823789169532,7.030699301374778,7.488703142936128,6.24024762050264,6.5480978205934415,3.692065358403253,5.620298799083457,5.9278681269137286,4.960558357925921,5.68171619688383,12.062536203606816,6.697657120584026,2.9813789663386965,9.752878651924869,6.509065394637483,7.663987986322337,6.962789991381202,7.295211586223173,3.9143531837208743,7.837861188542399,6.422359010887423,7.607610852809875,2.9937440607391426,8.261778152453603,6.737176049704408,9.202633941435824,8.4516010448867,8.263503442433247,9.412034556261546,3.723776180465787,6.30445910663101,7.208945954961548,7.442998712138735,8.117114132677262,3.445514571005745,6.23423148205243,6.947895137367302,8.385216673487097,4.942929900651313,7.692154202402315,8.226228135087709,9.186893055149625,9.49458169766203,7.842974787706206,8.630380615158643,6.269309000717355,5.314759315288798,5.980401833086066,7.108628055021516,7.599751702318177,3.6885044472211,7.294554070379053,9.064612799735334,6.878347938601747,9.72710331796349,8.124231912485545,7.03931085119713,8.456177900240938,7.628746941681399,9.34598146539764,5.895464025261905,7.0701852477538,10.711475410433692,5.239013199777052,6.341797302117964,7.40001948091398,7.924762106897907,4.338353353084402,6.662948925443871,6.856967134399797,4.930380712258765,7.327729345294117,9.900159427394206,8.869267959996662,9.092721172985096,11.5431904716461,7.641833653493535,6.577127953867105,7.84026050655083,9.242652786863514,5.310815229913601,5.667433467359569,5.948784613313245,7.27943319506844,7.277442761541138,5.780822620770183,5.976549511454515,5.922704259769252,7.079933969807632,6.516518927861855,10.707015582959428,4.639115857837833,8.243781226930494,8.110140336918443,8.848262223584083,7.697323746237285,5.527620653059023,8.075626885846768,4.142485398906173,7.132239772698276,7.668315445257313,6.222626355657602,6.500953108308197,5.507649677768669,4.970958566316776,9.009055719782308,6.106566875517484,9.070126286573686,10.096587966022383,7.258721932993848,6.132545673577182,8.377233431257475,7.536023170642026,7.26876508884632,7.736569500362128,7.489006437759974,4.945416598638363,8.420763302362689,7.60413034942968,6.717666040541136,8.550483092447966,5.204084472211437,7.027226155631311,4.536412951344509,7.290877675600362,7.286392323989023,7.744695762882315,9.759897651507403,9.47284496887071,7.410890857875185,7.287925242270102,10.18460459991426,5.325852714508289,7.872037771336379,5.112750509869737,6.608205099166998,8.444687184831874,7.513870224431929,5.543901316277938,9.644996547731552,6.294517392979037,6.761683214465978,4.935997766107353,5.163931372998991,8.38894421399903,8.620697294848203,9.876574050392144,7.667128478800443,4.6102446924534215,7.309821638629845,9.138390839362147,8.561123755060423,8.571649638299693,8.591510126308991,8.630313014071895,9.820230918736057,7.303183678175727,7.508305289508399,6.543089824078055,9.04114608484344,3.9209736624247262,8.262903987469691,9.00872609354944,7.390474095948067,8.769621767000698,7.991366182885692,5.018671102233063,5.557863755660677,5.017698088295537,9.363249825363392,6.521422284947895,7.101223816321487,8.486030243192529,7.487278120016829,6.741909445204502,7.029491110970193,6.280195162130877,6.392545063613865,8.439680712314411,7.135496643869766,7.982096708062272,6.296103203499958,6.144844982231076,9.370848444420924,8.840473500525777,5.838594348296554,8.072933637567953,9.751560796636284,8.600477186834942,5.567500642050892,6.764349993180452,7.3578572545432035,6.045906439607806,9.232766061940334,5.548407103735634,5.903058231468139,8.31134872749755,5.308989560204696,6.298365795305266,8.090493963325427,5.392692829400886,6.041143671607493,9.144953298114434,6.900379647327515,6.057867647319615,8.365470022720896,6.055622508469588,4.493900097817161,6.154072581466943,7.9190831602624785,5.845501641338506,6.066386357101846,10.141060053348731,7.137871354061047,9.77500406626542,6.050225266127892,3.2711440240210687,9.733356110206712,6.614180462593355,4.39313814981189,6.259352880963183,9.157615312499004,6.236836216752792,5.962836939385372,6.591108949152465,7.668897441408557,6.812142878738287,6.862988074575324,8.386403518156909,8.204071005976033,6.6342101132597895,5.584369157426571,5.816703197883763,6.736118026809487,9.768406488617064,4.97450612352311,9.915647165119752,8.193416004409773,6.372975147661259,6.192662700732348,6.028559416620544,5.180105640804004,7.548543437259352,6.785685189577225,6.648272780493369,9.16523914539234,7.843225649588569,5.523010780807942,7.623603583169212,6.861235191713022,7.894244798435495,5.96127222367226,5.501070114239315,6.3584022962415565,7.903081469320279,7.7200109589287775,5.818229015846422,6.521814669653311,6.188502911703347,7.784940449239423,4.977306609069512,7.816284866414023,5.211430347967574,9.47580112878229,6.936782341455183,9.29585200073896,7.017330330753139,7.5166432155506255,9.808651156000304,5.817090294681839,4.87541388108418,6.5778340481222415,5.350923532087751,7.3758831019097135,9.605650817390336,7.703374743177986,6.344585274835143,4.8998748098928,8.098838844819452,3.694274998949452,8.54083737580695,5.21668448428477,8.053558881344857,9.170939959898565,6.035086878051128,7.243682989120733,7.837397649883607,8.44840522471032,5.459171832896898,7.651668437911807,7.609833075619996,8.560537109298675,6.1887903080650615,4.038955038706492,11.086526251113613,7.881197241955268,7.3827548827212,7.325000809399832,7.223961867464942,6.984101860179184,4.286930404603043,9.79632989498925,8.530101581463274,7.769214768699737,6.05307194454977,6.18592511972857,5.783357385747603,6.520854677100747,8.565831605436097,7.422781036509128,9.219973244815074,8.290688224907012,5.276730857728753,6.850200389133175,6.183950032168574,7.420154854034217,9.369641788553407,7.087909963050183,8.17186545006647,6.80095766880417,6.729775468681519,6.556668444833776,5.666870422440619,6.707523245610187,4.865462911988274,6.1936239397781865,8.36413102029555,6.647425228431361,7.312751932833271,5.837807201144256,7.075130627265931,7.276064918343411,6.6739774050955365,6.693213781270785,5.993126371123805,6.807580134398719,5.94607364340275,6.184709662457266,6.874702423784096,6.259376143987399,5.360895563439263,5.91488443806432,7.354034994202686,5.973097827324135,8.465160384182976,6.895145947235456,7.504452893461385,7.363593123786581,5.967722339918852,6.546463536394048,7.46706801791988,6.7463438053848845,7.744699887440408,8.977179702653883,8.051172565689857,6.911867556478251,7.040727474579704,7.436807555796994,7.631406985299353,5.907272718398605,5.753405051896213,6.651801292027482,6.826412755635183,6.902369830255252,5.949621952624554,7.877666104360982,6.380683612713321,5.153872814055152,7.98045081211562,5.588614466203468,6.83596822664864,8.463003513917272,8.793458647829397,8.94038013799541,6.195449079471762,7.498494553889046,7.416772689381264,6.354508121755911,5.628775692029175,5.117364166076436,7.493278654702728,5.843756805412838,5.5029034695238055,5.152225670059677,5.618949090806702,7.299301919913234,6.5476499906031735,6.414851565282406,6.410043149676146,6.63645414145047,7.879750031872745,6.726664085659697,6.416458708054712,6.308198373401749,7.285997694388845,6.302263824957409,8.117217578033463,7.710119970074899,6.708067810613265,7.377422362740065,6.959567222404004,7.667655265787095,6.012315537887127,7.607639271731978,7.683399375833114,7.688917071627449,6.095883817488381,7.904381266348061,5.489258690502403,6.171162004840066,8.361018660492272,9.823507151433224,5.542363643899623,7.105619057118607,7.009805809226096,7.656506229429677,7.515814624361219,6.712006973914058,8.198105709931504,7.701926488840809,5.807121707735631,6.383226137929187,6.035221327328306,6.284582109974256,6.66115743127202,5.893458351780593,7.866135208545801,6.423224368793985,7.278911618857736,7.464893143133992,5.824041884169583,6.132131503643628,7.027441295267254,8.150954367608389,8.670126667077591,6.955821311242535,6.501096900445839,7.334428247669594,8.087495753688605,6.7593522120783724,9.5640266604158,5.729574898504879,7.691454199173904,6.147209936934442,5.869684683498216,7.356517092999123,8.532725772698734,8.7395051283663,7.86781524178014,6.646355629546837,7.401099400667652,7.792593266848893,5.92236704115349,8.014257063844763,7.557414861694831,7.138813885803813,6.4795578439453925,9.44614797716712,6.57686619244806,9.689175439096324,9.264883097334067,9.297299630484831,6.580460163575968,5.216368724811043,5.803999900907868,8.16641628348054,6.584414155349218,5.770106829394267,7.101816885471475,10.069434543192138,6.610787894788278,9.508298704434813,7.275077845532682,7.347360636957942,7.507931030671623,9.993375713943584,6.0555337414100165,8.754513037929026,6.028454348997834,6.832938265357902,5.43502468987419,7.605958274587529,5.1378906197941525,8.345192367125113,2.4560135962074776,6.356293645964684,5.983974183637757,7.960887806787365,6.81724723500068,8.321896839642253,7.240819804667903,4.996763122252452,7.330957605306177,7.200309830200364,8.231574473126987,6.730860948186203,9.791960767671595,7.690727720492953,4.252721409787046,8.809433144146196,7.816636046720324,10.08834488989324,6.745588411685346,5.497159162658319,7.822600687352608,5.984901234985347,7.692417173913011,6.029641484447208,4.793574529321033,5.074145829065994,6.264584284592314,6.298969845634645,5.1622780440847045,6.163319674060597,6.987977754010049,7.115714670223404,8.381737717287855,6.907736146953917,6.191399219857796,6.961265386435571,6.361756274566996,6.121662233034368,5.699539953172675,6.129172580010113,4.814655980036516,5.796841349089036,9.922076246517337,7.054093205452201,7.396764075492321,6.985179146933568,6.058740241409308,6.120771056260089,8.200972594216253,3.139552657761377,7.561175804087703,8.390811851463154,9.24530582842397,5.9050557942709885,8.216485933055083,8.415948255041112,4.970601199345966,6.503297311235955,6.081664052544265,8.163143897751493,9.8409485538097,8.613303748019465,6.842947201540685,7.286335787828286,7.153363581991464,7.72531395856043,8.336777937778926,8.702061413699436,8.85438613128691,6.742150214684482,6.121931341619024,5.908110988006822,7.681244589718963,6.803061490988782,6.196276275580315,6.986705178191451,7.701630393317624,9.120931424656208,5.536705208224568,6.360070218692954,9.648197063754996,5.705692803459669,9.274119529411774,5.734803644794412,7.715571777425199,6.628037164519292,6.253224096114969,7.106043485706114,3.988748935660376,8.107066902830644,5.241047394363035,9.214409134571252,8.271245714487424,7.369768571309858,8.41089222279898,4.702820909863455,4.842658321262629,9.886831313709733,2.62126755562118,7.415053893783208,5.837151801943094,7.432010934769431,8.487855964788041,6.409476273643096,8.034868234556987,5.215042349699976,6.756200028885186,7.856311801421975,6.055985023442332,8.261635176374645,4.074141162371888,5.6363884333914696,8.649614737162615,7.984166087683024,7.32185864286384,7.557872729231761,5.738962366634867,9.10701724282177,5.818273622676918,3.611358231773664,7.401662764741698,7.594584020038324,9.876515048672626,4.803372504546434,5.635029028384104,5.646296962088254,6.266781682497788,9.252852464062771,7.64189452353631,3.3312659575740278,5.659847929157454,7.571951407860145,5.622572290348024,7.3925169633238,8.022936053005736,9.360799140816216,8.860762307418115,7.301688665870163,7.461702678887754,7.63963391510834,6.10951591378841,6.844547821736392,7.363060149133315,9.084967569367894,11.264385849612266,8.389077863338056,5.4544759855144935,8.883665238289803,7.527317253355598,7.532773070641205,8.2679741062816,7.728504926266409,5.484258377749063,6.2372223880916655,8.2062119287899,7.7559050954694015,9.60068342275516,5.202937534233646,5.291516176339442,5.11930735918226,7.398602628776651,6.533392202867743,8.047798068058006,3.31804504559376,8.258578048278167,7.589753625517559,10.343626123965867,8.286210559007483,6.203675921735492,6.377789860888402,7.493432998912598,5.588774777187212,9.458000394003244,7.985668403901338,6.401045767391125,7.403238654601807,7.493024192606254,6.030275706989537,8.53462900071612,7.225366187809402,6.194121929450104,8.080155764252272,8.64203410725165,7.57408205793958,5.618492389550638,6.571089751859015,8.08149616212991,6.217222542133946,10.786499822724414,7.42494459051666,6.661616200337556,6.2153073095431495,6.34496341220211,5.527299246272879,9.504361027329772,9.14223366629411,8.82741355385482,8.115355082281138,4.531581223671286,7.017578358905798,8.46048978651693,8.47150895511111,8.118115150459,7.808013457146303,8.820155828731838,7.634966832866456,2.458609195210029,7.656831105336282,7.642952268827367,8.778717494397316,7.054443858805281,2.7857184262233883,5.850327619082905,8.562428188978295,9.30914183245864,8.720971883476519,5.6006199545881366,4.792738410027001,7.819479247999572,8.179967379670233,6.015548013766607,8.391882653872475,7.3776626020556275,3.2057862828959096,6.212629076321067,4.854334534222753,7.157951508834973,9.035769243880342,4.157901706275742,5.970186753693504,5.927759233164443,6.867072504706312,10.081609855589498,6.343522655052055,6.351029021740377,8.038872166572107,6.888257231216979,9.063042096432769,7.76373850690762,7.016078459188268,8.589393961495093,5.3053515499292345,6.476752767284111,9.778122612405303,9.116994487137177,10.328488971280226,6.83336024165987,5.007003487348866,7.587908534239578,5.73798825900627,6.819438078276601,6.392094599132991,6.051233426152701,8.332209743016618,7.173229426428975,7.857856269657002,6.356555064233982,9.681154302726586,4.868479989471089,5.029568518180121,9.128797716662024,7.301735495806889,8.808246917822967,6.310902368247443,8.109311853778678,6.096360029402541,9.725321293204242,8.260928445702813,10.120334022861256,7.2618107608561555,7.62564081064624,8.180813359555167,5.687072312759987,8.28930674549619,6.173823145207702,6.61154340305096,3.992171360485953,7.723304587478269,6.53702822442459,8.229992838553315,6.212264734972436,7.467623828883603,6.340534135395835,7.995890069063245,7.692413006321582,5.194783893813375,6.908571954439259,4.656537749459582,6.566928593579836,6.083267855590647,7.254980810725014,10.896662749833538,10.32655756908256,7.042326429998641,5.690078271351631,5.42753272863003,5.493514236431062,7.722560986916371,5.020026909643878,5.696063910378516,5.332099116893181,2.7267656255779578,6.253179731903874,6.570596051999727,8.407449953610357,9.502809435242533,9.690213096119871,7.728601253843125,9.771211536427682,5.311112031956964,8.279275414450787,8.312484093284185,8.832389880833562,8.171994841481562,6.286357793908773,4.724373099493707,7.676323150840254,7.085377010059526,8.494235191534507,6.533468856783324,9.387522327942945,11.299390212867785,5.714311709887958,7.905768670318106,2.654490953924924,6.60809975175673,8.297074093893979,7.050728842221929,7.771205679437534,6.844850275669532,7.925886801028912,8.418958240637183,6.866434552832582,8.939748149970546,9.76592075851118,7.146139714096017,6.668868088142148,7.761108314168174,8.548754210740471,9.507584644945537,5.182435714645063,6.672340964984802,7.462757885345703,8.652210468304967,9.536011425597028,7.753502379748802,9.273679481984235,8.344391015666405,8.815844632888231,6.250893489724113,8.433096578121011,6.541681459799686,3.4095758357574946,4.711350412540021,8.204102140049303,7.569543692616456,9.16073963943493,6.835951440246375,9.84054042532552,8.711705729168445,5.766780235697147,8.987042737214756,6.164048563812341,6.007956224293777,7.847066470239234,6.39143892140127,10.520555008740166,8.323329911892767,4.751004539411941,9.111721943377136,6.536992176124827,6.71285418648211,7.093310282333076,7.967085789423574,6.346378213674078,5.433802467728858,6.665873260533698,8.128262379819619,9.624699426514695,9.753766227622148,7.155343780063374,6.060118929707662,6.456555757336727,6.309195827173505,8.211762261710513,7.15380339665979,9.974807880251229,7.417040991861769,5.560179470099503,7.100523370752641,4.745340496708158,3.8302384224449897,8.888347448853745,6.557104819555656,7.499916848308452,12.653362021943142,6.387037207808662,5.28359355165118,8.603926761542617,7.717662267670843,9.272066266646704,3.715065351586488,5.762522398067345,6.60970624817921,8.660268825453098,6.888135538142039,6.932557933203627,7.754532621053169,8.217819407900288,8.21223430803513,7.436213728701341,6.559697825911671,6.045502870155396,8.725582139840052,6.262932865175094,7.391299312193253,6.717972617308032,6.373737432069345,6.214772832308696,7.412765411127279,6.78093611514574,7.425894079933873,4.598669852299243,7.0021919944198325,7.467684855451429,7.572175377074621,6.574957586178768,7.401366802222235,6.22129199951579,8.316897373632388,6.884918382798614,5.224256299847236,8.808963365281324,6.6415434448154365,6.246502454638379,6.495619338516966,7.200358354772008,6.385510463793114,6.305472316742188,9.33463209267385,6.524476298997729,7.6701494862203985,6.7342280682127,7.351021452283115,5.9064054859095405,7.698581722505345,8.005631016283633,6.525202657012258,7.554047401387347,7.659830108984329,7.235224038451399,7.36881918172737,6.548497477825059,8.14917752207392,7.312352352015045,7.496262512744353,7.988231917996359,6.594682306630487,7.116809283709961,8.83276202975628,5.670027421051015,5.56689579210772,6.790913893753413,6.810977797798223,8.725765390191523,8.066654024034838,6.9576761985003,5.792424747539261,9.40468730726088,8.086517016563963,6.4162983065822825,7.340595024194956,6.935550714808682,6.654372296073148,6.663397069642296,7.583326752098481,6.475402064091609,6.997171606989552,6.8606473723156185,7.517905882543813,7.821650422876534,6.9063478052980125,7.213328663165363,6.396364451731405,7.222004281417241,8.011316209784852,7.218904024289119,6.267475696262486,6.125585211067605,7.928700188113949,7.555320481391812,8.211595059274757,8.066979900780302,7.333742136171539,7.899520922132126,7.135063441641857,6.952616889200849,6.067812010702551,6.5109801126175775,8.60678979248583,8.065885726265378,6.696355790704156,6.48200928116253,7.813966644039233,8.474123113348943,6.519658507972283,8.422000034825615,7.09959894625112,7.369649468415711,7.757701624509676,8.141301159936118,7.041440296130538,6.907987009229515,8.098312326473618,7.194765031466901,7.7919819834792445,7.131703512231218,6.010568765994018,7.58817501892342,6.43707052209314,6.771728798328565,6.906496538174993,7.487422756527908,6.340682430161761,6.521470834565831,7.407967233394095,4.7966658362851735,7.664375220029952,5.899676356641535,7.96206646334495,6.7188296734823965,6.600786950950184,7.662153935671093,6.108947365964821,7.757769765315594,6.028898227810446,6.674031760854139,7.078689514914572,6.769267636869141,7.186173311070744,8.930688995006285,5.544435529850245,8.538491677011507,7.664060566570742,7.281105533226092,7.278263165429877,6.6188527588159385,7.065576303430455,7.078344555547338,7.214510211890976,6.774276121115724,7.597980582839567],\"xaxis\":\"x\",\"yaxis\":\"y\",\"type\":\"histogram\"},{\"alignmentgroup\":\"True\",\"bingroup\":\"x\",\"hovertemplate\":\"Potability=1<br>Chloramines=%{x}<br>count=%{y}<extra></extra>\",\"legendgroup\":\"1\",\"marker\":{\"color\":\"#EF553B\",\"pattern\":{\"shape\":\"\"}},\"name\":\"1\",\"offsetgroup\":\"1\",\"orientation\":\"v\",\"showlegend\":true,\"x\":[9.44447108562294,8.016422649173737,9.50169458771527,7.681806287243673,6.28906485943393,8.827061283189618,9.218150392671168,8.857160043515526,6.130756541740465,7.461170474153534,6.749377795488941,4.70104934575262,6.998961533138952,7.23869130092435,8.803174745405899,7.251978855273583,9.754475933171076,7.886854526878826,12.580026491367864,8.066059052365775,13.043806107761023,5.443386888459755,8.477393872457034,7.483257698182117,9.390842592507877,10.422841783337924,9.158703902851247,9.537735147164778,8.691206175159937,8.337610433523373,4.5545736271835455,5.389248620834634,8.76787503481929,6.157490739246978,7.487823264368269,10.493840916586826,8.550572663151964,8.77430610207418,7.486598423987717,7.939074357822587,5.196212760217538,4.382721317231579,9.511792391790864,9.08403988031659,8.517986143491289,6.105573328902787,11.0788724789145,7.212253930841305,11.1707886197812,7.9444693087435,7.675187645707463,6.231913253120573,5.551990467549905,10.95620545551429,6.61411403077891,8.369354097772296,8.493406748544633,5.164448054837886,6.636550648923896,5.149999932263159,4.955218159094366,8.926826327180082,7.490944013599902,8.151080662487415,13.127000000000002,7.52737530907068,7.217787957548947,7.571122584488707,7.635152992155966,6.207729477942272,4.870660378027012,6.275304600259224,5.630557592180706,4.362641197928316,10.850036483517218,6.775277154369163,8.012496989065786,4.466577191045226,9.960552065163297,7.3838186809894655,10.068205367364207,7.369360303120931,8.024953110998103,10.514466037259698,4.613310782608283,8.63071896535268,7.23592175948416,10.236175974570024,9.077984756164897,7.555029709998242,5.257789016285808,8.85554447353044,6.890505480307937,5.929307621591023,8.56548727319319,7.728859875071584,8.08824196976233,8.433448388281507,5.03601005290663,6.2954050221532505,2.4843799772443687,4.945555199305746,7.241343464835192,8.867293830473216,7.198432414854298,6.121463538019163,8.982036448800589,5.574341667234688,7.411483499547991,7.569518149893523,9.426339354029771,5.575906369507383,5.94369457895465,5.02314259061121,7.832473707577792,5.431878695884324,9.12490032158066,7.547859470408599,10.508809892873716,7.6853697349708545,6.895013644713986,7.728177044016057,6.033247172047696,6.2038687851292345,6.029670479976019,7.248624986357715,7.640874321804035,8.181988064844402,9.203614112389076,5.789668676373399,9.256097772286736,8.392833532289163,4.023081338990855,9.817335635498171,6.64391802773037,8.428753588042051,4.790681389223984,5.246381746649555,8.14664316834556,7.512608141042463,3.4624920476792767,7.582123856166227,6.048437038051848,6.779005476818379,8.657341897259338,7.172920416881898,7.602251873891982,4.9243889968068135,9.288019857195886,11.523597512651357,8.866359287204885,4.649253929836745,7.605420787733807,9.15458050661148,7.691012379460733,5.892962668914752,3.924182928425397,7.986456361636122,6.553957721862112,9.821498519744832,8.350110051861993,10.149936905895792,8.604504846292835,10.031146372241002,7.365015093298825,5.654856360975956,9.772521848077082,2.8660730298495407,6.241348598048285,6.953307779687905,7.924616265268947,6.844017626422233,5.464057647765709,9.842346073332996,9.899636695088748,8.577249576739348,4.415975931396427,5.657004242761536,4.184890691838287,5.35153318891046,4.138540036994002,6.011610979169929,9.241762922024453,6.72284290895704,8.292444792039035,10.08953714883008,9.288199604583657,8.863272376077974,6.185947771279679,6.060143581856844,4.8943736166150975,8.186478946067783,2.862535374452988,7.716922923418477,4.823831505497687,9.29328864439756,8.534458442405425,9.99762356652512,11.30283118849055,7.689190528554683,4.584133909828415,7.947534131189498,6.283249716056102,9.609895813228702,5.232749727921741,6.125251637811496,10.999995159050403,7.652073244872579,9.180703191789364,7.631357065523394,9.007161200505026,6.734527285410932,9.422100574893728,8.696478833800825,5.84611204151865,6.378364493521163,4.600729970888528,3.18118329063755,7.475273364334676,8.458102715694844,5.742828934596181,2.7417121173046723,10.365679862326058,5.271367216524433,7.3175751855196625,7.931502716678679,3.372369253748352,7.898731599954655,4.105766322585412,8.175744201693186,5.857333129140415,9.125163915775502,4.146601117658612,6.225933055611912,5.491962672908565,7.0780148890041295,8.556396061089337,7.773484085746959,6.701159346040737,3.651961339353696,8.980270623695109,6.914685302912404,5.648145717519176,3.6844626644107903,8.353373632495304,6.040735165120504,6.18785720964272,7.698690079377398,7.490508409340612,5.573848753615652,4.991061122347455,6.354814991677399,5.605863656386442,3.3116072571688484,5.888459997642613,5.684492227939808,9.548769015124698,5.2991636367056,5.215861524347611,4.371024856309438,6.968422637847091,5.381993558098351,9.492074041013112,5.003730631924251,4.984431830347783,5.214315143188376,7.532191965992924,7.443243199299871,7.96452512488874,7.784749911423435,4.219710533068505,6.433183887942168,5.885557479524616,4.242828908559183,4.143329384036738,6.164621288543354,5.687754930947671,9.982723538040052,9.796999515077292,7.415405532414375,7.224710174935922,5.66265724677601,5.438776428929289,5.568042052840514,8.111958085302863,6.032863905159469,8.417895728135505,5.330123052152086,7.009437062121737,5.892272673694608,6.559265111493522,8.076613046836648,7.362410882893811,6.878354263572089,8.06469307232728,7.838884173635478,6.456238476905327,7.5724354712978945,6.811415524954471,9.469763496724733,7.8700615413288,7.003487667065503,6.278292699450075,8.877010593115735,7.652135132079867,6.35293353105966,7.408017537424175,6.772753383250597,7.856556902117845,6.867963632037966,7.673719024583923,4.33912599905565,5.298877261876914,5.274744658651156,6.690393745252398,9.194574840122243,10.116984176644849,7.019971074841608,4.881376648213999,8.50940333925466,4.768780800964818,6.939853225180281,4.7270723230968885,9.378390092203825,8.915970937560093,7.12077230286162,6.851404882360647,11.129153658303936,5.265557586247642,7.34238063859913,5.703617133676215,3.4026815899619844,7.425580496980975,6.182409481989718,6.062561086621286,7.751461185910855,4.973866332075417,6.392120730986492,7.784123048553013,7.717186742132455,3.2314384013788304,7.570768596359379,8.706012437470024,6.502544137326676,4.973592706222023,7.144655074770772,4.38109672011746,6.812415640336417,8.283757694778313,9.610055885550429,8.165222040842318,5.687865445343612,8.208677807352506,7.907876694584349,5.9222929487923865,9.752087959847046,7.158342920651847,6.369162812139627,7.639210005222214,7.015365326271725,7.773735987643992,9.989628390971694,5.808579500930309,9.566105409835142,6.594144886088997,6.529774495645817,6.765469172057388,7.177445308764305,7.130161148170633,7.654550197659413,5.089127565678716,6.390679360955504,7.156540539745273,10.573402909396457,8.960736007790159,6.371977545205873,7.623012262282329,7.044432594927276,6.8263306319169,6.881658941448617,6.997160010542585,6.862782053514225,8.038212717585301,9.923315466056431,5.494254342147788,5.602313546992777,6.938467052899352,7.022187020358024,7.0516974329329605,8.361337388791465,8.435789355784177,7.002092479278954,8.47690539073455,7.881448097184417,7.196435142502073,5.265718338065395,8.806392748957961,8.267536832327547,7.837777990854427,6.975602003973421,9.035250353796991,5.693751919932961,7.525440974837567,8.450272354606483,6.4759944301482415,6.457686555183607,6.363537539773553,7.404434524442212,6.34140695887747,6.8204689804050265,7.930381857190964,7.871025150780389,6.407647889270883,8.457661649744294,7.074062933998013,6.680188314390799,5.783275484202249,8.533888277656953,7.78291530782294,8.59111309966701,7.43449274757963,7.452361819474242,6.772750799041366,8.14251283428053,7.294577390106759,6.404354015290895,6.730577013294539,8.378282176906978,8.899711625929987,5.047915868669222,7.704989892484599,6.611448597083937,8.98678433778731,8.283068933566303,5.73602687789666,6.43093480799846,9.492361328958149,8.257751124841384,6.002653035061753,7.784203339169811,8.972661232218787,8.895421661297222,5.138838499145021,7.381256051400532,10.41083526515133,8.222533309306083,6.6306745098240025,7.043424624083506,7.851400220551362,6.572681848401118,5.31199041263291,8.283955430574803,5.836980435814227,7.112622452037526,7.794726949202301,5.677451117249203,7.764668384049106,4.449122632711616,8.22672479852216,9.14159700404448,5.305394004221403,6.084132842086124,7.992914378232637,6.194910000092316,5.88788510267209,7.656806896244371,7.385414293946828,8.166793311751535,7.74892129486267,8.49334762370914,8.852270123017838,7.059382855730257,6.208574002625104,6.588566093133087,7.300091677163146,7.304628015427524,6.608774671819704,7.929904388301963,8.33027629009801,7.667533316037838,5.766832204959284,7.254121956467008,7.723292486876025,6.378917977073916,9.36753268783956,6.875298924484605,5.975488073209139,6.931095897331531,7.623241594883384,6.731610675622372,6.475112718944898,8.495903871344124,4.752267562975149,7.835638736326533,4.947531357152716,6.7619285106595175,9.710618837152984,4.26327909194399,6.607844327158406,6.958284223872553,9.181472938087696,2.4985967213169733,5.402654753079641,9.752750871727184,9.674860448761429,6.452140869579198,7.306447324109384,8.508750972457303,5.196132621399963,8.263803916982441,6.6144379698152695,8.343510207048167,6.411410462619055,6.379970101156275,6.822156741058116,6.819603096244566,6.305787650533418,6.664443788811873,3.117440980065026,5.657812133049573,3.5211252174992507,8.095426538132969,7.335960310335099,5.230477275898359,7.936652408675291,12.626899738790904,5.809435938892817,5.354516204932816,8.219240345248597,5.446562741244111,5.01402281172122,11.101628109872705,6.508853439206952,2.855789795310306,5.714731299239791,7.471727772298008,1.3908709048851806,6.489931491506645,2.39798498956576,6.642337169245401,6.70709459234911,3.5237139413829164,7.741975288974793,7.823612288977235,9.12842211372743,4.613721483792887,7.832320390412843,10.860294995090388,11.994290224518096,8.003186613087149,4.7269122862033495,6.454876484142466,4.013444409697543,8.043354126979011,6.907202815535574,7.632370159509795,6.106764784339333,7.471614406460985,4.433724763106108,9.603302351309988,9.29611401431356,9.68643479820874,5.955008397109832,8.306960457626596,7.954721153303788,7.271299466669348,11.448469328247167,6.987854135150098,7.86887830943357,7.264677555112612,1.92027144925428,5.839218684966128,9.883945511518238,6.318063039015589,6.7746097430471695,5.34008845320107,7.145335458433946,7.98403919630692,10.11046222802238,3.440880123602577,4.344706917833362,10.18952799658635,8.881111781915259,3.833901836565748,6.727918856969923,12.24639409776954,5.533208317774516,7.669540025909633,5.399012624095749,5.775932909898134,6.839622493454928,9.34562132951958,4.300509254913657,7.446877056414904,7.536805720810975,5.607450056121154,9.341475229715137,6.149493861922862,6.248929383428646,6.374708984211272,12.227175278872044,11.930447965564245,3.2679840915011398,10.585501376330653,6.765117879792386,6.406814395196608,6.95200803307596,9.178560476664668,4.17910796288259,7.2834542169338,7.396472119149486,7.339173310543906,2.648389906859159,6.900029880617981,6.616367521487831,5.573277338729333,7.894120346705541,9.112558175692884,5.649970632740677,7.304928195439939,6.146098439515495,8.606774254853429,8.191827053754649,8.063334618675412,7.248866700092826,7.874166460655202,6.581327180699622,6.627059043301967,5.166942295288669,7.453900170724688,5.1287325411688105,6.91872650291659,9.57782026297432,8.985571802690806,7.041827749776457,7.759843399542577,8.095991371989015,6.1968764897226,8.493784319811613,7.32999890233211,7.542775331563176,9.734512546383284,7.198434575553271,7.156737918080303,7.634362144497116,8.136930576288464,6.550096293006814,7.714446559672639,5.784975793149856,7.668510397528325,7.473070208285623,5.8417498740425255,8.37017929917063,5.407691662106037,6.280886804932884,7.076944002447285,6.791509363412849,6.289036105400298,5.992480374252229,7.631345800124248,6.043959345191263,6.369175394060361,8.199318452874493,7.074906687460708,3.016032602671193,7.35294059207056,8.180874177915136,5.83068529423083,8.037399953697514,9.829674656014388,6.308729513316849,5.216280115807192,8.031864862891307,7.127077798121801,6.230581825397784,7.140121953336555,6.579328071104777,5.378285961181126,7.3955296826678,7.97804398390079,8.045869831293803,6.701766574304423,9.36436116788196,7.567418625886672,8.986862677728771,5.2688072037166975,5.924459987446995,7.384126121281199,8.045991282850062,6.845743996808342,8.341669769803286,8.754110049072283,8.723064211950991,7.982595216401367,7.624238583045931,7.071299151714212,7.696751399214669,7.588021340273935,5.412481384644464,9.013016217643194,5.436264151807441,8.076995435790266,9.827309049243365,6.602451653034367,7.597451675399671,6.390966016442871,9.586090231034175,6.473673832546811,6.011964238184745,7.458741450053704,6.179495870819559,5.596240507286585,8.091014004638305,6.123297466049608,8.172548400173357,6.954230561602053,4.892716651174616,7.843497716454735,6.554857685167836,6.809153177405537,8.423765852502946,7.797840028172333,6.454924771941508,6.834673314493745,7.696942683440743,6.785520511774099,8.082003931853437,8.005172947231275,7.108809424689269,10.282328870705385,9.513269116233849,6.496722627942392,6.100064295307396,7.117858564061427,7.4753362078876355,7.166733690414065,6.046385489584265,8.45763867714476,6.140033164031195,6.894915429194337,8.097193741185114,7.762861766330197,6.126270002317292,9.989551220939507,6.445512852939411,7.839066572142404,6.086599373560465,5.816215976191796,7.62554508089964,9.844921431275466,7.930651012247173,6.826782139377206,9.143046046687209,6.675080629168261,9.050080219969011,8.577654500763229,6.9774209002962175,7.744713611140504,5.879183845348483,9.129754931533986,7.641776466935965,7.661687284296819,6.543134476282099,6.368862018681716,9.36833977172888,8.773161930761969,5.9473503501534495,8.860818357278797,7.764692573248689,7.900790105684598,6.703538564300445,6.298121347138782,8.368785486252278,4.755312178656423,4.157335299373067,7.001788101358392,4.0726262629147385,8.001377824874378,7.633725249675295,5.8627172735769895,8.735315343467212,7.441486515976747,8.399435299469037,6.37563198794617,8.027819437526281,5.38543992959052,7.143906655908775,6.435809198082079,4.80675901959762,5.740321172931416,3.4581916819703147,7.071294493360232,7.154890693981027,5.782417746039318,7.966710438575026,6.442769292150998,8.310194997763043,7.639572886949698,7.452236189756758,7.8264110490998995,5.33620199356427,6.618071066219877,6.477056754250701,5.50116404338138,6.3495608678905295,6.472914285587643,6.29731152709713,7.708116997755447,9.263166160944529,7.7475474812942835,7.166638935482532],\"xaxis\":\"x\",\"yaxis\":\"y\",\"type\":\"histogram\"}],                        {\"template\":{\"data\":{\"bar\":[{\"error_x\":{\"color\":\"#2a3f5f\"},\"error_y\":{\"color\":\"#2a3f5f\"},\"marker\":{\"line\":{\"color\":\"#E5ECF6\",\"width\":0.5},\"pattern\":{\"fillmode\":\"overlay\",\"size\":10,\"solidity\":0.2}},\"type\":\"bar\"}],\"barpolar\":[{\"marker\":{\"line\":{\"color\":\"#E5ECF6\",\"width\":0.5},\"pattern\":{\"fillmode\":\"overlay\",\"size\":10,\"solidity\":0.2}},\"type\":\"barpolar\"}],\"carpet\":[{\"aaxis\":{\"endlinecolor\":\"#2a3f5f\",\"gridcolor\":\"white\",\"linecolor\":\"white\",\"minorgridcolor\":\"white\",\"startlinecolor\":\"#2a3f5f\"},\"baxis\":{\"endlinecolor\":\"#2a3f5f\",\"gridcolor\":\"white\",\"linecolor\":\"white\",\"minorgridcolor\":\"white\",\"startlinecolor\":\"#2a3f5f\"},\"type\":\"carpet\"}],\"choropleth\":[{\"colorbar\":{\"outlinewidth\":0,\"ticks\":\"\"},\"type\":\"choropleth\"}],\"contour\":[{\"colorbar\":{\"outlinewidth\":0,\"ticks\":\"\"},\"colorscale\":[[0.0,\"#0d0887\"],[0.1111111111111111,\"#46039f\"],[0.2222222222222222,\"#7201a8\"],[0.3333333333333333,\"#9c179e\"],[0.4444444444444444,\"#bd3786\"],[0.5555555555555556,\"#d8576b\"],[0.6666666666666666,\"#ed7953\"],[0.7777777777777778,\"#fb9f3a\"],[0.8888888888888888,\"#fdca26\"],[1.0,\"#f0f921\"]],\"type\":\"contour\"}],\"contourcarpet\":[{\"colorbar\":{\"outlinewidth\":0,\"ticks\":\"\"},\"type\":\"contourcarpet\"}],\"heatmap\":[{\"colorbar\":{\"outlinewidth\":0,\"ticks\":\"\"},\"colorscale\":[[0.0,\"#0d0887\"],[0.1111111111111111,\"#46039f\"],[0.2222222222222222,\"#7201a8\"],[0.3333333333333333,\"#9c179e\"],[0.4444444444444444,\"#bd3786\"],[0.5555555555555556,\"#d8576b\"],[0.6666666666666666,\"#ed7953\"],[0.7777777777777778,\"#fb9f3a\"],[0.8888888888888888,\"#fdca26\"],[1.0,\"#f0f921\"]],\"type\":\"heatmap\"}],\"heatmapgl\":[{\"colorbar\":{\"outlinewidth\":0,\"ticks\":\"\"},\"colorscale\":[[0.0,\"#0d0887\"],[0.1111111111111111,\"#46039f\"],[0.2222222222222222,\"#7201a8\"],[0.3333333333333333,\"#9c179e\"],[0.4444444444444444,\"#bd3786\"],[0.5555555555555556,\"#d8576b\"],[0.6666666666666666,\"#ed7953\"],[0.7777777777777778,\"#fb9f3a\"],[0.8888888888888888,\"#fdca26\"],[1.0,\"#f0f921\"]],\"type\":\"heatmapgl\"}],\"histogram\":[{\"marker\":{\"pattern\":{\"fillmode\":\"overlay\",\"size\":10,\"solidity\":0.2}},\"type\":\"histogram\"}],\"histogram2d\":[{\"colorbar\":{\"outlinewidth\":0,\"ticks\":\"\"},\"colorscale\":[[0.0,\"#0d0887\"],[0.1111111111111111,\"#46039f\"],[0.2222222222222222,\"#7201a8\"],[0.3333333333333333,\"#9c179e\"],[0.4444444444444444,\"#bd3786\"],[0.5555555555555556,\"#d8576b\"],[0.6666666666666666,\"#ed7953\"],[0.7777777777777778,\"#fb9f3a\"],[0.8888888888888888,\"#fdca26\"],[1.0,\"#f0f921\"]],\"type\":\"histogram2d\"}],\"histogram2dcontour\":[{\"colorbar\":{\"outlinewidth\":0,\"ticks\":\"\"},\"colorscale\":[[0.0,\"#0d0887\"],[0.1111111111111111,\"#46039f\"],[0.2222222222222222,\"#7201a8\"],[0.3333333333333333,\"#9c179e\"],[0.4444444444444444,\"#bd3786\"],[0.5555555555555556,\"#d8576b\"],[0.6666666666666666,\"#ed7953\"],[0.7777777777777778,\"#fb9f3a\"],[0.8888888888888888,\"#fdca26\"],[1.0,\"#f0f921\"]],\"type\":\"histogram2dcontour\"}],\"mesh3d\":[{\"colorbar\":{\"outlinewidth\":0,\"ticks\":\"\"},\"type\":\"mesh3d\"}],\"parcoords\":[{\"line\":{\"colorbar\":{\"outlinewidth\":0,\"ticks\":\"\"}},\"type\":\"parcoords\"}],\"pie\":[{\"automargin\":true,\"type\":\"pie\"}],\"scatter\":[{\"marker\":{\"colorbar\":{\"outlinewidth\":0,\"ticks\":\"\"}},\"type\":\"scatter\"}],\"scatter3d\":[{\"line\":{\"colorbar\":{\"outlinewidth\":0,\"ticks\":\"\"}},\"marker\":{\"colorbar\":{\"outlinewidth\":0,\"ticks\":\"\"}},\"type\":\"scatter3d\"}],\"scattercarpet\":[{\"marker\":{\"colorbar\":{\"outlinewidth\":0,\"ticks\":\"\"}},\"type\":\"scattercarpet\"}],\"scattergeo\":[{\"marker\":{\"colorbar\":{\"outlinewidth\":0,\"ticks\":\"\"}},\"type\":\"scattergeo\"}],\"scattergl\":[{\"marker\":{\"colorbar\":{\"outlinewidth\":0,\"ticks\":\"\"}},\"type\":\"scattergl\"}],\"scattermapbox\":[{\"marker\":{\"colorbar\":{\"outlinewidth\":0,\"ticks\":\"\"}},\"type\":\"scattermapbox\"}],\"scatterpolar\":[{\"marker\":{\"colorbar\":{\"outlinewidth\":0,\"ticks\":\"\"}},\"type\":\"scatterpolar\"}],\"scatterpolargl\":[{\"marker\":{\"colorbar\":{\"outlinewidth\":0,\"ticks\":\"\"}},\"type\":\"scatterpolargl\"}],\"scatterternary\":[{\"marker\":{\"colorbar\":{\"outlinewidth\":0,\"ticks\":\"\"}},\"type\":\"scatterternary\"}],\"surface\":[{\"colorbar\":{\"outlinewidth\":0,\"ticks\":\"\"},\"colorscale\":[[0.0,\"#0d0887\"],[0.1111111111111111,\"#46039f\"],[0.2222222222222222,\"#7201a8\"],[0.3333333333333333,\"#9c179e\"],[0.4444444444444444,\"#bd3786\"],[0.5555555555555556,\"#d8576b\"],[0.6666666666666666,\"#ed7953\"],[0.7777777777777778,\"#fb9f3a\"],[0.8888888888888888,\"#fdca26\"],[1.0,\"#f0f921\"]],\"type\":\"surface\"}],\"table\":[{\"cells\":{\"fill\":{\"color\":\"#EBF0F8\"},\"line\":{\"color\":\"white\"}},\"header\":{\"fill\":{\"color\":\"#C8D4E3\"},\"line\":{\"color\":\"white\"}},\"type\":\"table\"}]},\"layout\":{\"annotationdefaults\":{\"arrowcolor\":\"#2a3f5f\",\"arrowhead\":0,\"arrowwidth\":1},\"autotypenumbers\":\"strict\",\"coloraxis\":{\"colorbar\":{\"outlinewidth\":0,\"ticks\":\"\"}},\"colorscale\":{\"diverging\":[[0,\"#8e0152\"],[0.1,\"#c51b7d\"],[0.2,\"#de77ae\"],[0.3,\"#f1b6da\"],[0.4,\"#fde0ef\"],[0.5,\"#f7f7f7\"],[0.6,\"#e6f5d0\"],[0.7,\"#b8e186\"],[0.8,\"#7fbc41\"],[0.9,\"#4d9221\"],[1,\"#276419\"]],\"sequential\":[[0.0,\"#0d0887\"],[0.1111111111111111,\"#46039f\"],[0.2222222222222222,\"#7201a8\"],[0.3333333333333333,\"#9c179e\"],[0.4444444444444444,\"#bd3786\"],[0.5555555555555556,\"#d8576b\"],[0.6666666666666666,\"#ed7953\"],[0.7777777777777778,\"#fb9f3a\"],[0.8888888888888888,\"#fdca26\"],[1.0,\"#f0f921\"]],\"sequentialminus\":[[0.0,\"#0d0887\"],[0.1111111111111111,\"#46039f\"],[0.2222222222222222,\"#7201a8\"],[0.3333333333333333,\"#9c179e\"],[0.4444444444444444,\"#bd3786\"],[0.5555555555555556,\"#d8576b\"],[0.6666666666666666,\"#ed7953\"],[0.7777777777777778,\"#fb9f3a\"],[0.8888888888888888,\"#fdca26\"],[1.0,\"#f0f921\"]]},\"colorway\":[\"#636efa\",\"#EF553B\",\"#00cc96\",\"#ab63fa\",\"#FFA15A\",\"#19d3f3\",\"#FF6692\",\"#B6E880\",\"#FF97FF\",\"#FECB52\"],\"font\":{\"color\":\"#2a3f5f\"},\"geo\":{\"bgcolor\":\"white\",\"lakecolor\":\"white\",\"landcolor\":\"#E5ECF6\",\"showlakes\":true,\"showland\":true,\"subunitcolor\":\"white\"},\"hoverlabel\":{\"align\":\"left\"},\"hovermode\":\"closest\",\"mapbox\":{\"style\":\"light\"},\"paper_bgcolor\":\"white\",\"plot_bgcolor\":\"#E5ECF6\",\"polar\":{\"angularaxis\":{\"gridcolor\":\"white\",\"linecolor\":\"white\",\"ticks\":\"\"},\"bgcolor\":\"#E5ECF6\",\"radialaxis\":{\"gridcolor\":\"white\",\"linecolor\":\"white\",\"ticks\":\"\"}},\"scene\":{\"xaxis\":{\"backgroundcolor\":\"#E5ECF6\",\"gridcolor\":\"white\",\"gridwidth\":2,\"linecolor\":\"white\",\"showbackground\":true,\"ticks\":\"\",\"zerolinecolor\":\"white\"},\"yaxis\":{\"backgroundcolor\":\"#E5ECF6\",\"gridcolor\":\"white\",\"gridwidth\":2,\"linecolor\":\"white\",\"showbackground\":true,\"ticks\":\"\",\"zerolinecolor\":\"white\"},\"zaxis\":{\"backgroundcolor\":\"#E5ECF6\",\"gridcolor\":\"white\",\"gridwidth\":2,\"linecolor\":\"white\",\"showbackground\":true,\"ticks\":\"\",\"zerolinecolor\":\"white\"}},\"shapedefaults\":{\"line\":{\"color\":\"#2a3f5f\"}},\"ternary\":{\"aaxis\":{\"gridcolor\":\"white\",\"linecolor\":\"white\",\"ticks\":\"\"},\"baxis\":{\"gridcolor\":\"white\",\"linecolor\":\"white\",\"ticks\":\"\"},\"bgcolor\":\"#E5ECF6\",\"caxis\":{\"gridcolor\":\"white\",\"linecolor\":\"white\",\"ticks\":\"\"}},\"title\":{\"x\":0.05},\"xaxis\":{\"automargin\":true,\"gridcolor\":\"white\",\"linecolor\":\"white\",\"ticks\":\"\",\"title\":{\"standoff\":15},\"zerolinecolor\":\"white\",\"zerolinewidth\":2},\"yaxis\":{\"automargin\":true,\"gridcolor\":\"white\",\"linecolor\":\"white\",\"ticks\":\"\",\"title\":{\"standoff\":15},\"zerolinecolor\":\"white\",\"zerolinewidth\":2}}},\"xaxis\":{\"anchor\":\"y\",\"domain\":[0.0,1.0],\"title\":{\"text\":\"Chloramines\"}},\"yaxis\":{\"anchor\":\"x\",\"domain\":[0.0,1.0],\"title\":{\"text\":\"count\"}},\"legend\":{\"title\":{\"text\":\"Potability\"},\"tracegroupgap\":0},\"title\":{\"text\":\"Factors Affecting Water Quality: Chloramines\"},\"barmode\":\"relative\"},                        {\"responsive\": true}                    ).then(function(){\n",
       "                            \n",
       "var gd = document.getElementById('bd03d366-e9c1-49b1-9599-891c2e2fc396');\n",
       "var x = new MutationObserver(function (mutations, observer) {{\n",
       "        var display = window.getComputedStyle(gd).display;\n",
       "        if (!display || display === 'none') {{\n",
       "            console.log([gd, 'removed!']);\n",
       "            Plotly.purge(gd);\n",
       "            observer.disconnect();\n",
       "        }}\n",
       "}});\n",
       "\n",
       "// Listen for the removal of the full notebook cells\n",
       "var notebookContainer = gd.closest('#notebook-container');\n",
       "if (notebookContainer) {{\n",
       "    x.observe(notebookContainer, {childList: true});\n",
       "}}\n",
       "\n",
       "// Listen for the clearing of the current output cell\n",
       "var outputEl = gd.closest('.output');\n",
       "if (outputEl) {{\n",
       "    x.observe(outputEl, {childList: true});\n",
       "}}\n",
       "\n",
       "                        })                };                });            </script>        </div>"
      ]
     },
     "metadata": {},
     "output_type": "display_data"
    }
   ],
   "source": [
    "figure = px.histogram(data, x = \"Chloramines\", \n",
    "                      color = \"Potability\", \n",
    "                      title= \"Factors Affecting Water Quality: Chloramines\")\n",
    "figure.show()"
   ]
  },
  {
   "cell_type": "markdown",
   "id": "0db50654",
   "metadata": {},
   "source": [
    "The figure above represents the distribution of chloramine in water in the dataset. Chloramine and chlorine are disinfectants used in public water systems. "
   ]
  },
  {
   "cell_type": "code",
   "execution_count": 13,
   "id": "f134bbcc",
   "metadata": {},
   "outputs": [
    {
     "data": {
      "image/png": "[encoded data removed]",
      "text/plain": [
       "<Figure size 720x432 with 1 Axes>"
      ]
     },
     "metadata": {
      "needs_background": "light"
     },
     "output_type": "display_data"
    }
   ],
   "source": [
    "#figure = px.histogram(data, x = \"Sulfate\", color = \"Potability\", title= \"Factors Affecting Water Quality: Sulfate\")\n",
    "                      \n",
    "#figure.show()\n",
    "\n",
    "# Factors Affecting Water Quality: Sulfate\n",
    "plt.figure(figsize=(10, 6))\n",
    "plt.hist(data[data['Potability'] == 0]['Sulfate'], bins=20, alpha=0.5, label='Not Potable', color='red')\n",
    "plt.hist(data[data['Potability'] == 1]['Sulfate'], bins=20, alpha=0.5, label='Potable', color='blue')\n",
    "plt.xlabel('Sulfate')\n",
    "plt.ylabel('Count')\n",
    "plt.title('Distribution of Sulfate for Potable and Non-Potable Water')\n",
    "plt.legend()\n",
    "plt.show()\n"
   ]
  },
  {
   "cell_type": "markdown",
   "id": "3729569e",
   "metadata": {},
   "source": [
    "The figure above shows the distribution of sulfate in water in the dataset. They are substances naturally present in minerals, soil and rocks. Water containing less than 500 milligrams of sulfate is safe to drink. \n",
    "Now evaluating the next factor:"
   ]
  },
  {
   "cell_type": "code",
   "execution_count": 15,
   "id": "cc26c258",
   "metadata": {},
   "outputs": [
    {
     "data": {
      "image/png": "[encoded data removed]",
      "text/plain": [
       "<Figure size 720x432 with 1 Axes>"
      ]
     },
     "metadata": {
      "needs_background": "light"
     },
     "output_type": "display_data"
    }
   ],
   "source": [
    "#figure = px.histogram(data, x = \"Conductivity\", color = \"Potability\", title= \"Factors Affecting Water Quality: Conductivity\")\n",
    "#figure.show()\n",
    "\n",
    "# Factors Affecting Water Quality: Conductivity\n",
    "plt.figure(figsize=(10, 6))\n",
    "plt.hist(data[data['Potability'] == 0]['Conductivity'], bins=20, alpha=0.5, label='Not Potable', color='red')\n",
    "plt.hist(data[data['Potability'] == 1]['Conductivity'], bins=20, alpha=0.5, label='Potable', color='blue')\n",
    "plt.xlabel('Conductivity')\n",
    "plt.ylabel('Count')\n",
    "plt.title('Factors Affecting Water Quality: Conductivity')\n",
    "plt.legend()\n",
    "plt.show()\n"
   ]
  },
  {
   "cell_type": "markdown",
   "id": "40eca661",
   "metadata": {},
   "source": [
    "The figure above represents the distribution of water conductivity in the dataset. Water is a good conductor of electricity, but the purest form of water is not a good conductor of electricity. Water with an electrical conductivity of less than 500 is drinkable. "
   ]
  },
  {
   "cell_type": "code",
   "execution_count": 17,
   "id": "99bb733f",
   "metadata": {},
   "outputs": [
    {
     "data": {
      "image/png": "[encoded data removed]",
      "text/plain": [
       "<Figure size 720x432 with 1 Axes>"
      ]
     },
     "metadata": {
      "needs_background": "light"
     },
     "output_type": "display_data"
    }
   ],
   "source": [
    "#figure = px.histogram(data, x = \"Organic_carbon\", color = \"Potability\", title= \"Factors Affecting Water Quality: Organic Carbon\")\n",
    "#figure.show()\n",
    "\n",
    "# Factors Affecting Water Quality: Organic Carbon\n",
    "plt.figure(figsize=(10, 6))\n",
    "plt.hist(data[data['Potability'] == 0]['Organic_carbon'], bins=20, alpha=0.5, label='Not Potable', color='red')\n",
    "plt.hist(data[data['Potability'] == 1]['Organic_carbon'], bins=20, alpha=0.5, label='Potable', color='blue')\n",
    "plt.xlabel('Organic Carbon')\n",
    "plt.ylabel('Count')\n",
    "plt.title('Factors Affecting Water Quality: Organic Carbon')\n",
    "plt.legend()\n",
    "plt.show()\n"
   ]
  },
  {
   "cell_type": "markdown",
   "id": "79fa0cea",
   "metadata": {},
   "source": [
    "The figure above represents the distribution of organic carbon in water in the dataset. Organic carbon comes from the breakdown of natural organic materials and synthetic sources. Water containing less than 25 milligrams of organic carbon is considered safe to drink. \n",
    "Now evaluating the next factor that affects the quality of drinking water:"
   ]
  },
  {
   "cell_type": "code",
   "execution_count": 19,
   "id": "afc0a7df",
   "metadata": {},
   "outputs": [
    {
     "data": {
      "image/png": "[encoded data removed]",
      "text/plain": [
       "<Figure size 720x432 with 1 Axes>"
      ]
     },
     "metadata": {
      "needs_background": "light"
     },
     "output_type": "display_data"
    }
   ],
   "source": [
    "#figure = px.histogram(data, x = \"Trihalomethanes\", color = \"Potability\", title= \"Factors Affecting Water Quality: Trihalomethanes\")\n",
    "#figure.show()\n",
    "\n",
    "# Factors Affecting Water Quality: Trihalomethanes\n",
    "plt.figure(figsize=(10, 6))\n",
    "plt.hist(data[data['Potability'] == 0]['Trihalomethanes'], bins=20, alpha=0.5, label='Not Potable', color='red')\n",
    "plt.hist(data[data['Potability'] == 1]['Trihalomethanes'], bins=20, alpha=0.5, label='Potable', color='blue')\n",
    "plt.xlabel('Trihalomethanes')\n",
    "plt.ylabel('Count')\n",
    "plt.title('Trihalomethanes')\n",
    "plt.legend()\n",
    "plt.show()\n"
   ]
  },
  {
   "cell_type": "markdown",
   "id": "33db499e",
   "metadata": {},
   "source": [
    "The figure above represents the distribution of trihalomethanes or THMs in water in the dataset. THMs are chemicals found in chlorine-treated water. Water containing less than 80 milligrams of THMs is considered safe to drink. "
   ]
  },
  {
   "cell_type": "code",
   "execution_count": 21,
   "id": "d1bf79c2",
   "metadata": {},
   "outputs": [
    {
     "data": {
      "image/png": "[encoded data removed]",
      "text/plain": [
       "<Figure size 720x432 with 1 Axes>"
      ]
     },
     "metadata": {
      "needs_background": "light"
     },
     "output_type": "display_data"
    }
   ],
   "source": [
    "#figure = px.histogram(data, x = \"Turbidity\", color = \"Potability\", title= \"Factors Affecting Water Quality: Turbidity\")\n",
    "#figure.show()\n",
    "\n",
    "# Factors Affecting Water Quality: Turbidity\n",
    "plt.figure(figsize=(10, 6))\n",
    "plt.hist(data[data['Potability'] == 0]['Turbidity'], bins=20, alpha=0.5, label='Not Potable', color='red')\n",
    "plt.hist(data[data['Potability'] == 1]['Turbidity'], bins=20, alpha=0.5, label='Potable', color='blue')\n",
    "plt.xlabel('Turbidity')\n",
    "plt.ylabel('Count')\n",
    "plt.title('Factors Affecting Water Quality: Turbidity')\n",
    "plt.legend()\n",
    "plt.show()\n"
   ]
  },
  {
   "cell_type": "markdown",
   "id": "59b6cc73",
   "metadata": {},
   "source": [
    "The figure above represents the distribution of turbidity in water. The turbidity of water depends on the number of solids present in suspension. Water with a turbidity of fewer than 5 milligrams is considered drinkable."
   ]
  },
  {
   "cell_type": "code",
   "execution_count": null,
   "id": "18aaf122",
   "metadata": {},
   "outputs": [],
   "source": []
  }
 ],
 "metadata": {
  "kernelspec": {
   "display_name": "Python 3 (ipykernel)",
   "language": "python",
   "name": "python3"
  },
  "language_info": {
   "codemirror_mode": {
    "name": "ipython",
    "version": 3
   },
   "file_extension": ".py",
   "mimetype": "text/x-python",
   "name": "python",
   "nbconvert_exporter": "python",
   "pygments_lexer": "ipython3",
   "version": "3.9.12"
  }
 },
 "nbformat": 4,
 "nbformat_minor": 5
}
